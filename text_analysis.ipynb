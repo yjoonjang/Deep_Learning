{
  "nbformat": 4,
  "nbformat_minor": 0,
  "metadata": {
    "colab": {
      "provenance": [],
      "authorship_tag": "ABX9TyMsbQUQAmSgRd81oYpnkQ2A",
      "include_colab_link": true
    },
    "kernelspec": {
      "name": "python3",
      "display_name": "Python 3"
    },
    "language_info": {
      "name": "python"
    },
    "accelerator": "GPU",
    "gpuClass": "standard"
  },
  "cells": [
    {
      "cell_type": "markdown",
      "metadata": {
        "id": "view-in-github",
        "colab_type": "text"
      },
      "source": [
        "<a href=\"https://colab.research.google.com/github/yjoonjang/Deep_Learning/blob/main/text_analysis.ipynb\" target=\"_parent\"><img src=\"https://colab.research.google.com/assets/colab-badge.svg\" alt=\"Open In Colab\"/></a>"
      ]
    },
    {
      "cell_type": "markdown",
      "source": [
        "# 1. 문장의 유사도를 계산하는 방법"
      ],
      "metadata": {
        "id": "Vta52mIlutrI"
      }
    },
    {
      "cell_type": "markdown",
      "source": [
        "\n",
        "문장의 유사도를 계산하기 위해서는 기본적으로 단어를 숫자, 벡터로 표현해야 합니다. 즉, 유사도 혹은 거리를 수학적으로 계산하기 위해 문장을 일종의 좌표평면 상에 놓을 수 있어야 하고, 문장이 좌표평면에 놓이기 위해서는 문장을 구성하고 있는 단어들을 스칼라 혹은 벡터값으로 변환해줘야 하는 것입니다.\n",
        "\n",
        "따라서 문장의 유사도를 계산하는 방법은 다음과 같습니다.\n",
        "\n",
        "1. 단어를 숫자(스칼라 혹은 벡터)로 변환\n",
        "2. 각 문장을 벡터(단어)의 배열로 변환\n",
        "3. 문장 벡터간 유사도 계산"
      ],
      "metadata": {
        "id": "sADfMf22uydX"
      }
    },
    {
      "cell_type": "markdown",
      "source": [
        "# 2. 빈도 기반 유사도 계산"
      ],
      "metadata": {
        "id": "N6Fhqmp1u4Al"
      }
    },
    {
      "cell_type": "markdown",
      "source": [
        "### 2-1. 문장별 단어 카운트"
      ],
      "metadata": {
        "id": "IywF2VaRSOMi"
      }
    },
    {
      "cell_type": "markdown",
      "source": [
        "단어를 숫자로 변환하기 위해서는 단어가 몇번 등장하는지 세는 것이 가장 좋습니다. 이를 위해 사용할 패키지들을 불러옵니다."
      ],
      "metadata": {
        "id": "iOrYZ0PEu76k"
      }
    },
    {
      "cell_type": "code",
      "source": [
        "!pip install mplcyberpunk"
      ],
      "metadata": {
        "colab": {
          "base_uri": "https://localhost:8080/"
        },
        "id": "-CA9V3mkZeAh",
        "outputId": "7e299b32-806a-4e0c-a239-af1fd8383b97"
      },
      "execution_count": 4,
      "outputs": [
        {
          "output_type": "stream",
          "name": "stdout",
          "text": [
            "Looking in indexes: https://pypi.org/simple, https://us-python.pkg.dev/colab-wheels/public/simple/\n",
            "Collecting mplcyberpunk\n",
            "  Downloading mplcyberpunk-0.6.0-py3-none-any.whl (6.0 kB)\n",
            "Requirement already satisfied: matplotlib in /usr/local/lib/python3.8/dist-packages (from mplcyberpunk) (3.5.3)\n",
            "Requirement already satisfied: pyparsing>=2.2.1 in /usr/local/lib/python3.8/dist-packages (from matplotlib->mplcyberpunk) (3.0.9)\n",
            "Requirement already satisfied: packaging>=20.0 in /usr/local/lib/python3.8/dist-packages (from matplotlib->mplcyberpunk) (23.0)\n",
            "Requirement already satisfied: python-dateutil>=2.7 in /usr/local/lib/python3.8/dist-packages (from matplotlib->mplcyberpunk) (2.8.2)\n",
            "Requirement already satisfied: cycler>=0.10 in /usr/local/lib/python3.8/dist-packages (from matplotlib->mplcyberpunk) (0.11.0)\n",
            "Requirement already satisfied: numpy>=1.17 in /usr/local/lib/python3.8/dist-packages (from matplotlib->mplcyberpunk) (1.22.4)\n",
            "Requirement already satisfied: kiwisolver>=1.0.1 in /usr/local/lib/python3.8/dist-packages (from matplotlib->mplcyberpunk) (1.4.4)\n",
            "Requirement already satisfied: pillow>=6.2.0 in /usr/local/lib/python3.8/dist-packages (from matplotlib->mplcyberpunk) (8.4.0)\n",
            "Requirement already satisfied: fonttools>=4.22.0 in /usr/local/lib/python3.8/dist-packages (from matplotlib->mplcyberpunk) (4.38.0)\n",
            "Requirement already satisfied: six>=1.5 in /usr/local/lib/python3.8/dist-packages (from python-dateutil>=2.7->matplotlib->mplcyberpunk) (1.15.0)\n",
            "Installing collected packages: mplcyberpunk\n",
            "Successfully installed mplcyberpunk-0.6.0\n"
          ]
        }
      ]
    },
    {
      "cell_type": "code",
      "execution_count": 5,
      "metadata": {
        "id": "ek08U1QxNn78"
      },
      "outputs": [],
      "source": [
        "import pandas as pd\n",
        "import numpy as np\n",
        "import matplotlib.pyplot as plt\n",
        "\n",
        "# MacOs 한글폰트\n",
        "from matplotlib import rc\n",
        "rc('font', family='AppleGothic')\n",
        "plt.rcParams['axes.unicode_minus'] = False\n",
        "\n",
        "# 그래프 스타일\n",
        "import mplcyberpunk\n",
        "plt.style.use('cyberpunk')\n",
        "\n",
        "# Ignore Warnings\n",
        "import warnings\n",
        "warnings.filterwarnings('ignore')"
      ]
    },
    {
      "cell_type": "markdown",
      "source": [
        "사용할 3개의 샘플 문장들은 다음과 같습니다.\n",
        "1. doc_1, doc_2, doc_3 모두 apple 라는 단어 포함합니다.\n",
        "2. doc_1, doc_2는 과일 apple에 관한 내용입니.\n",
        "3. doc_3은 apple iPhone에 관한 내용입니다."
      ],
      "metadata": {
        "id": "r225V384ZkK3"
      }
    },
    {
      "cell_type": "code",
      "source": [
        "doc_1 = \"My favorite fruit is red and round apple.\"\n",
        "doc_2 = \"I like to eat apple pie for dessert. It smells good.\" # I like to eat apple pie for dessert.\n",
        "doc_3 = \"I love listening to music on my apple iPhone.\""
      ],
      "metadata": {
        "id": "k8t9cGpNZLY-"
      },
      "execution_count": 1,
      "outputs": []
    },
    {
      "cell_type": "code",
      "source": [
        "from sklearn.feature_extraction.text import CountVectorizer"
      ],
      "metadata": {
        "id": "lTcQlOy2Zzw0"
      },
      "execution_count": 2,
      "outputs": []
    },
    {
      "cell_type": "code",
      "source": [
        "vectorizer = CountVectorizer(stop_words='english')\n",
        "docs = [doc_1, doc_2, doc_3]\n",
        "matrix = vectorizer.fit_transform(docs)"
      ],
      "metadata": {
        "id": "Dp3AwQSYZ103"
      },
      "execution_count": 3,
      "outputs": []
    },
    {
      "cell_type": "code",
      "source": [
        "matrix.todense()"
      ],
      "metadata": {
        "colab": {
          "base_uri": "https://localhost:8080/"
        },
        "id": "4Zih0IbRaIPs",
        "outputId": "70b7caf7-3515-489b-982e-4a2d53310b19"
      },
      "execution_count": 6,
      "outputs": [
        {
          "output_type": "execute_result",
          "data": {
            "text/plain": [
              "matrix([[1, 0, 0, 1, 1, 0, 0, 0, 0, 0, 0, 0, 1, 1, 0],\n",
              "        [1, 1, 1, 0, 0, 1, 0, 1, 0, 0, 0, 1, 0, 0, 1],\n",
              "        [1, 0, 0, 0, 0, 0, 1, 0, 1, 1, 1, 0, 0, 0, 0]])"
            ]
          },
          "metadata": {},
          "execution_count": 6
        }
      ]
    },
    {
      "cell_type": "code",
      "source": [
        "vectorizer.get_feature_names()"
      ],
      "metadata": {
        "colab": {
          "base_uri": "https://localhost:8080/"
        },
        "id": "pU8IwZxcb6VZ",
        "outputId": "6fa9eb53-1c6d-4ff7-b278-8409f1bd8565"
      },
      "execution_count": 7,
      "outputs": [
        {
          "output_type": "execute_result",
          "data": {
            "text/plain": [
              "['apple',\n",
              " 'dessert',\n",
              " 'eat',\n",
              " 'favorite',\n",
              " 'fruit',\n",
              " 'good',\n",
              " 'iphone',\n",
              " 'like',\n",
              " 'listening',\n",
              " 'love',\n",
              " 'music',\n",
              " 'pie',\n",
              " 'red',\n",
              " 'round',\n",
              " 'smells']"
            ]
          },
          "metadata": {},
          "execution_count": 7
        }
      ]
    },
    {
      "cell_type": "code",
      "source": [
        "df_words = pd.DataFrame(\n",
        "    data=matrix.todense(),\n",
        "    index=['doc_1', 'doc_2', 'doc_3'],\n",
        "    columns=vectorizer.get_feature_names()\n",
        ")"
      ],
      "metadata": {
        "id": "U-rAxgvwcaPt"
      },
      "execution_count": 8,
      "outputs": []
    },
    {
      "cell_type": "code",
      "source": [
        "df_words"
      ],
      "metadata": {
        "colab": {
          "base_uri": "https://localhost:8080/",
          "height": 143
        },
        "id": "0eU6ISnId50C",
        "outputId": "2c296b05-1505-46eb-b4e7-8e5a39f5ce62"
      },
      "execution_count": 9,
      "outputs": [
        {
          "output_type": "execute_result",
          "data": {
            "text/plain": [
              "       apple  dessert  eat  favorite  fruit  good  iphone  like  listening  \\\n",
              "doc_1      1        0    0         1      1     0       0     0          0   \n",
              "doc_2      1        1    1         0      0     1       0     1          0   \n",
              "doc_3      1        0    0         0      0     0       1     0          1   \n",
              "\n",
              "       love  music  pie  red  round  smells  \n",
              "doc_1     0      0    0    1      1       0  \n",
              "doc_2     0      0    1    0      0       1  \n",
              "doc_3     1      1    0    0      0       0  "
            ],
            "text/html": [
              "\n",
              "  <div id=\"df-d8e5a584-668a-4ee6-9e38-f538d4e3af95\">\n",
              "    <div class=\"colab-df-container\">\n",
              "      <div>\n",
              "<style scoped>\n",
              "    .dataframe tbody tr th:only-of-type {\n",
              "        vertical-align: middle;\n",
              "    }\n",
              "\n",
              "    .dataframe tbody tr th {\n",
              "        vertical-align: top;\n",
              "    }\n",
              "\n",
              "    .dataframe thead th {\n",
              "        text-align: right;\n",
              "    }\n",
              "</style>\n",
              "<table border=\"1\" class=\"dataframe\">\n",
              "  <thead>\n",
              "    <tr style=\"text-align: right;\">\n",
              "      <th></th>\n",
              "      <th>apple</th>\n",
              "      <th>dessert</th>\n",
              "      <th>eat</th>\n",
              "      <th>favorite</th>\n",
              "      <th>fruit</th>\n",
              "      <th>good</th>\n",
              "      <th>iphone</th>\n",
              "      <th>like</th>\n",
              "      <th>listening</th>\n",
              "      <th>love</th>\n",
              "      <th>music</th>\n",
              "      <th>pie</th>\n",
              "      <th>red</th>\n",
              "      <th>round</th>\n",
              "      <th>smells</th>\n",
              "    </tr>\n",
              "  </thead>\n",
              "  <tbody>\n",
              "    <tr>\n",
              "      <th>doc_1</th>\n",
              "      <td>1</td>\n",
              "      <td>0</td>\n",
              "      <td>0</td>\n",
              "      <td>1</td>\n",
              "      <td>1</td>\n",
              "      <td>0</td>\n",
              "      <td>0</td>\n",
              "      <td>0</td>\n",
              "      <td>0</td>\n",
              "      <td>0</td>\n",
              "      <td>0</td>\n",
              "      <td>0</td>\n",
              "      <td>1</td>\n",
              "      <td>1</td>\n",
              "      <td>0</td>\n",
              "    </tr>\n",
              "    <tr>\n",
              "      <th>doc_2</th>\n",
              "      <td>1</td>\n",
              "      <td>1</td>\n",
              "      <td>1</td>\n",
              "      <td>0</td>\n",
              "      <td>0</td>\n",
              "      <td>1</td>\n",
              "      <td>0</td>\n",
              "      <td>1</td>\n",
              "      <td>0</td>\n",
              "      <td>0</td>\n",
              "      <td>0</td>\n",
              "      <td>1</td>\n",
              "      <td>0</td>\n",
              "      <td>0</td>\n",
              "      <td>1</td>\n",
              "    </tr>\n",
              "    <tr>\n",
              "      <th>doc_3</th>\n",
              "      <td>1</td>\n",
              "      <td>0</td>\n",
              "      <td>0</td>\n",
              "      <td>0</td>\n",
              "      <td>0</td>\n",
              "      <td>0</td>\n",
              "      <td>1</td>\n",
              "      <td>0</td>\n",
              "      <td>1</td>\n",
              "      <td>1</td>\n",
              "      <td>1</td>\n",
              "      <td>0</td>\n",
              "      <td>0</td>\n",
              "      <td>0</td>\n",
              "      <td>0</td>\n",
              "    </tr>\n",
              "  </tbody>\n",
              "</table>\n",
              "</div>\n",
              "      <button class=\"colab-df-convert\" onclick=\"convertToInteractive('df-d8e5a584-668a-4ee6-9e38-f538d4e3af95')\"\n",
              "              title=\"Convert this dataframe to an interactive table.\"\n",
              "              style=\"display:none;\">\n",
              "        \n",
              "  <svg xmlns=\"http://www.w3.org/2000/svg\" height=\"24px\"viewBox=\"0 0 24 24\"\n",
              "       width=\"24px\">\n",
              "    <path d=\"M0 0h24v24H0V0z\" fill=\"none\"/>\n",
              "    <path d=\"M18.56 5.44l.94 2.06.94-2.06 2.06-.94-2.06-.94-.94-2.06-.94 2.06-2.06.94zm-11 1L8.5 8.5l.94-2.06 2.06-.94-2.06-.94L8.5 2.5l-.94 2.06-2.06.94zm10 10l.94 2.06.94-2.06 2.06-.94-2.06-.94-.94-2.06-.94 2.06-2.06.94z\"/><path d=\"M17.41 7.96l-1.37-1.37c-.4-.4-.92-.59-1.43-.59-.52 0-1.04.2-1.43.59L10.3 9.45l-7.72 7.72c-.78.78-.78 2.05 0 2.83L4 21.41c.39.39.9.59 1.41.59.51 0 1.02-.2 1.41-.59l7.78-7.78 2.81-2.81c.8-.78.8-2.07 0-2.86zM5.41 20L4 18.59l7.72-7.72 1.47 1.35L5.41 20z\"/>\n",
              "  </svg>\n",
              "      </button>\n",
              "      \n",
              "  <style>\n",
              "    .colab-df-container {\n",
              "      display:flex;\n",
              "      flex-wrap:wrap;\n",
              "      gap: 12px;\n",
              "    }\n",
              "\n",
              "    .colab-df-convert {\n",
              "      background-color: #E8F0FE;\n",
              "      border: none;\n",
              "      border-radius: 50%;\n",
              "      cursor: pointer;\n",
              "      display: none;\n",
              "      fill: #1967D2;\n",
              "      height: 32px;\n",
              "      padding: 0 0 0 0;\n",
              "      width: 32px;\n",
              "    }\n",
              "\n",
              "    .colab-df-convert:hover {\n",
              "      background-color: #E2EBFA;\n",
              "      box-shadow: 0px 1px 2px rgba(60, 64, 67, 0.3), 0px 1px 3px 1px rgba(60, 64, 67, 0.15);\n",
              "      fill: #174EA6;\n",
              "    }\n",
              "\n",
              "    [theme=dark] .colab-df-convert {\n",
              "      background-color: #3B4455;\n",
              "      fill: #D2E3FC;\n",
              "    }\n",
              "\n",
              "    [theme=dark] .colab-df-convert:hover {\n",
              "      background-color: #434B5C;\n",
              "      box-shadow: 0px 1px 3px 1px rgba(0, 0, 0, 0.15);\n",
              "      filter: drop-shadow(0px 1px 2px rgba(0, 0, 0, 0.3));\n",
              "      fill: #FFFFFF;\n",
              "    }\n",
              "  </style>\n",
              "\n",
              "      <script>\n",
              "        const buttonEl =\n",
              "          document.querySelector('#df-d8e5a584-668a-4ee6-9e38-f538d4e3af95 button.colab-df-convert');\n",
              "        buttonEl.style.display =\n",
              "          google.colab.kernel.accessAllowed ? 'block' : 'none';\n",
              "\n",
              "        async function convertToInteractive(key) {\n",
              "          const element = document.querySelector('#df-d8e5a584-668a-4ee6-9e38-f538d4e3af95');\n",
              "          const dataTable =\n",
              "            await google.colab.kernel.invokeFunction('convertToInteractive',\n",
              "                                                     [key], {});\n",
              "          if (!dataTable) return;\n",
              "\n",
              "          const docLinkHtml = 'Like what you see? Visit the ' +\n",
              "            '<a target=\"_blank\" href=https://colab.research.google.com/notebooks/data_table.ipynb>data table notebook</a>'\n",
              "            + ' to learn more about interactive tables.';\n",
              "          element.innerHTML = '';\n",
              "          dataTable['output_type'] = 'display_data';\n",
              "          await google.colab.output.renderOutput(dataTable, element);\n",
              "          const docLink = document.createElement('div');\n",
              "          docLink.innerHTML = docLinkHtml;\n",
              "          element.appendChild(docLink);\n",
              "        }\n",
              "      </script>\n",
              "    </div>\n",
              "  </div>\n",
              "  "
            ]
          },
          "metadata": {},
          "execution_count": 9
        }
      ]
    },
    {
      "cell_type": "markdown",
      "source": [
        "### 2-2. 문장 벡터 시각화"
      ],
      "metadata": {
        "id": "C1ytL7ANeLuq"
      }
    },
    {
      "cell_type": "code",
      "source": [
        "doc_dict = {\n",
        "    'doc_1': doc_1,\n",
        "    'doc_2': doc_2,\n",
        "    'doc_3': doc_3,\n",
        "}"
      ],
      "metadata": {
        "id": "PPxclHXud_0J"
      },
      "execution_count": 11,
      "outputs": []
    },
    {
      "cell_type": "code",
      "source": [
        "print('doc_1: ',doc_dict['doc_1'])\n",
        "print('doc_2: ',doc_dict['doc_2'])\n",
        "print('doc_3: ',doc_dict['doc_3'])"
      ],
      "metadata": {
        "colab": {
          "base_uri": "https://localhost:8080/"
        },
        "id": "JxRROLFWeTw9",
        "outputId": "a3a20171-0b24-4e95-de06-771e19060b17"
      },
      "execution_count": 12,
      "outputs": [
        {
          "output_type": "stream",
          "name": "stdout",
          "text": [
            "doc_1:  My favorite fruit is red and round apple.\n",
            "doc_2:  I like to eat apple pie for dessert. It smells good.\n",
            "doc_3:  I love listening to music on my apple iPhone.\n"
          ]
        }
      ]
    },
    {
      "cell_type": "code",
      "source": [
        "x_label = 'apple'\n",
        "y_label = 'fruit'\n",
        "z_label = 'iphone'\n",
        "\n",
        "fig = plt.figure(figsize=(8,8))\n",
        "ax = fig.add_subplot(projection='3d')\n",
        "\n",
        "for i, df_word in df_words.iterrows():\n",
        "  x = df_word[x_label]\n",
        "  y = df_word[y_label]\n",
        "  z = df_word[z_label]\n",
        "  vec_len = np.linalg.norm(np.array([x,y,z]))\n",
        "  ax.quiver(0,0,0,x,y,z,\n",
        "            arrow_length_ratio=0.1/vec_len)\n",
        "  if i == 'doc_1':\n",
        "    ax.text((x-0.5), y, (z-1),\n",
        "          s=f'{i}\\n{doc_dict[i]}',\n",
        "          size=12,\n",
        "          fontweight='bold')\n",
        "  else: \n",
        "    ax.text((x-0.5), y, (z-0.3),\n",
        "            s=f'{i}\\n{doc_dict[i]}',\n",
        "            size=12,\n",
        "            fontweight='bold')\n",
        "  ax.scatter(x,y,z)\n",
        "\n",
        "ax.set_xlim(0,4)\n",
        "ax.set_ylim(4,0)\n",
        "ax.set_zlim(0,4)\n",
        "\n",
        "ax.set_xlabel(x_label, fontsize=12)\n",
        "ax.set_ylabel(y_label, fontsize=12)\n",
        "ax.set_zlabel(z_label, fontsize=12)\n",
        "\n",
        "plt.show()\n"
      ],
      "metadata": {
        "colab": {
          "base_uri": "https://localhost:8080/",
          "height": 466
        },
        "id": "nw3KNKI8gbU6",
        "outputId": "fe900b56-37b0-4186-b4ee-4c9932c3eeb8"
      },
      "execution_count": 14,
      "outputs": [
        {
          "output_type": "display_data",
          "data": {
            "text/plain": [
              "<Figure size 576x576 with 1 Axes>"
            ],
            "image/png": "[encoded data removed]"
          },
          "metadata": {}
        }
      ]
    },
    {
      "cell_type": "markdown",
      "source": [
        "### 2-3. 문장 벡터간 유사도 계산"
      ],
      "metadata": {
        "id": "PeRsItSmlw40"
      }
    },
    {
      "cell_type": "markdown",
      "source": [
        "1. 유클리디안 거리 계산"
      ],
      "metadata": {
        "id": "wCvY0fogveQR"
      }
    },
    {
      "cell_type": "code",
      "source": [
        "dst_1_2 = np.linalg.norm(df_words.loc['doc_1'] - df_words.loc['doc_2'])\n",
        "dst_2_3 = np.linalg.norm(df_words.loc['doc_2'] - df_words.loc['doc_3'])\n",
        "\n",
        "print('=' * 20)\n",
        "print(f\"doc_1 : {doc_dict['doc_1']}\")\n",
        "print(f\"doc_2 : {doc_dict['doc_2']}\")\n",
        "print(f\"distance(doc_1~doc_2) : {round(dst_1_2,2)}\")\n",
        "\n",
        "print('=' * 20)\n",
        "print(f\"doc_2 : {doc_dict['doc_2']}\")\n",
        "print(f\"doc_3 : {doc_dict['doc_3']}\")\n",
        "print(f\"distance(doc_2~doc_3) : {round(dst_2_3,2)}\")"
      ],
      "metadata": {
        "colab": {
          "base_uri": "https://localhost:8080/"
        },
        "id": "DUrzRVSDiFhU",
        "outputId": "c95744a6-7e38-4272-b02e-2f4f00fdd13d"
      },
      "execution_count": 16,
      "outputs": [
        {
          "output_type": "stream",
          "name": "stdout",
          "text": [
            "====================\n",
            "doc_1 : My favorite fruit is red and round apple.\n",
            "doc_2 : I like to eat apple pie for dessert. It smells good.\n",
            "distance(doc_1~doc_2) : 3.16\n",
            "====================\n",
            "doc_2 : I like to eat apple pie for dessert. It smells good.\n",
            "doc_3 : I love listening to music on my apple iPhone.\n",
            "distance(doc_2~doc_3) : 3.16\n"
          ]
        }
      ]
    },
    {
      "cell_type": "markdown",
      "source": [
        "2. 코사인 거리 계산"
      ],
      "metadata": {
        "id": "YXUHFZlOvhxM"
      }
    },
    {
      "cell_type": "markdown",
      "source": [
        "코사인 유사도 (cosine similarity) 식은 다음과 같다.\n",
        "![image.png](data:image/png;base64,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)"
      ],
      "metadata": {
        "id": "4RH8v6B2S4Qc"
      }
    },
    {
      "cell_type": "markdown",
      "source": [
        "- np.dot(vector_1, vector_2)를 사용해서 스칼라곱을 구한다.\n",
        "- np.linalg.norm(vetcor_1) * np.linalg.norm(vetcor_2)를 사용해서 각 벡터 길이의 곱을 구한다.\n",
        "- 최종적으로 아래 식 (get_cos_dist)에서는 **얼마나 유사하지 않은지**에 초점을 둘 것이기 때문에 **(1-(cosine simlilarity))**를 반환한다."
      ],
      "metadata": {
        "id": "D-c8NCsyTHVi"
      }
    },
    {
      "cell_type": "code",
      "source": [
        "def get_cos_dst(a, b):\n",
        "  dst = np.dot(a,b)\n",
        "  dst /= (np.linalg.norm(a) * np.linalg.norm(b))\n",
        "  dst = 1 - dst\n",
        "  return dst"
      ],
      "metadata": {
        "id": "ExMn4DrQrKPw"
      },
      "execution_count": 17,
      "outputs": []
    },
    {
      "cell_type": "code",
      "source": [
        "cos_dst_1_2 = get_cos_dst(df_words.loc['doc_1'], df_words.loc['doc_2'])\n",
        "cos_dst_2_3 = get_cos_dst(df_words.loc['doc_2'], df_words.loc['doc_3'])\n",
        "\n",
        "print('='*20)\n",
        "print(f\"doc_1 : {doc_dict['doc_1']}\")\n",
        "print(f\"doc_2 : {doc_dict['doc_2']}\")\n",
        "print(f\"euclidean distance: {round(dst_1_2,2)}\")\n",
        "print(f\"cosine distance: {round(cos_dst_1_2,2)}\")\n",
        "\n",
        "print('='*20)\n",
        "print(f\"doc_2 : {doc_dict['doc_2']}\")\n",
        "print(f\"doc_3 : {doc_dict['doc_3']}\")\n",
        "print(f\"euclidean distance: {round(dst_2_3,2)}\")\n",
        "print(f\"cosine distance: {round(cos_dst_2_3,2)}\")"
      ],
      "metadata": {
        "colab": {
          "base_uri": "https://localhost:8080/"
        },
        "id": "nYX8rOafSlJ0",
        "outputId": "f819d4cc-325d-4adf-e0ac-559598f4f5da"
      },
      "execution_count": 18,
      "outputs": [
        {
          "output_type": "stream",
          "name": "stdout",
          "text": [
            "====================\n",
            "doc_1 : My favorite fruit is red and round apple.\n",
            "doc_2 : I like to eat apple pie for dessert. It smells good.\n",
            "euclidean distance: 3.16\n",
            "cosine distance: 0.83\n",
            "====================\n",
            "doc_2 : I like to eat apple pie for dessert. It smells good.\n",
            "doc_3 : I love listening to music on my apple iPhone.\n",
            "euclidean distance: 3.16\n",
            "cosine distance: 0.83\n"
          ]
        }
      ]
    },
    {
      "cell_type": "markdown",
      "source": [
        "### 2-4.결과\n",
        "- doc_1, doc_2와 doc_2, doc_3 각각의 코사인 거리, 유클리디안 거리가 동일합니다.\n",
        "- doc_1과 doc_2는 먹는 사과에 관한 문장이고, doc_3은 회사 애플에 관한 문장임에도 불구하고 doc_2이 doc_1, doc_3과의 유사도가 같습니다.\n",
        "-해당 과정은 문제가 있어 보입니다. 해당 문제를 더욱 극대화시켜 보도록 하겠습니다.\n",
        "\n"
      ],
      "metadata": {
        "id": "yudKboALRhk_"
      }
    },
    {
      "cell_type": "markdown",
      "source": [
        "# 3. 코사인 유사도의 효용 (cosine distance vs. euclidean distance)"
      ],
      "metadata": {
        "id": "zLr4bUHeUqVE"
      }
    },
    {
      "cell_type": "markdown",
      "source": [
        "### 3-1. 단어가 반복 등장하는 예시"
      ],
      "metadata": {
        "id": "HjdFt7mkVGWZ"
      }
    },
    {
      "cell_type": "code",
      "source": [
        "doc_1_extend = ' '.join([doc_1] * 5)\n",
        "doc_1_extend"
      ],
      "metadata": {
        "colab": {
          "base_uri": "https://localhost:8080/",
          "height": 54
        },
        "id": "_ADeL1ghUjoc",
        "outputId": "cdacb7c7-fffc-4f2e-c3ec-9e0498a3934a"
      },
      "execution_count": 21,
      "outputs": [
        {
          "output_type": "execute_result",
          "data": {
            "text/plain": [
              "'My favorite fruit is red and round apple. My favorite fruit is red and round apple. My favorite fruit is red and round apple. My favorite fruit is red and round apple. My favorite fruit is red and round apple.'"
            ],
            "application/vnd.google.colaboratory.intrinsic+json": {
              "type": "string"
            }
          },
          "metadata": {},
          "execution_count": 21
        }
      ]
    },
    {
      "cell_type": "markdown",
      "source": [
        "문장별 단어 빈도 테이블 생성"
      ],
      "metadata": {
        "id": "DvTweI3QVQUP"
      }
    },
    {
      "cell_type": "code",
      "source": [
        "docs_with_extend = [doc_1_extend, doc_2, doc_3]\n",
        "matrix_with_extend = vectorizer.fit_transform(docs_with_extend, matrix)\n",
        "\n",
        "df_words_with_extend = pd.DataFrame(\n",
        "    data=matrix_with_extend.todense(), \n",
        "    index=['doc_1_extend','doc_2','doc_3'],\n",
        "    columns=vectorizer.get_feature_names())\n",
        "\n",
        "df_words_with_extend"
      ],
      "metadata": {
        "colab": {
          "base_uri": "https://localhost:8080/",
          "height": 143
        },
        "id": "CNALUTn2VNJm",
        "outputId": "8f3e9bf3-43fe-4e28-93fa-78c2e3fd71a1"
      },
      "execution_count": 22,
      "outputs": [
        {
          "output_type": "execute_result",
          "data": {
            "text/plain": [
              "              apple  dessert  eat  favorite  fruit  good  iphone  like  \\\n",
              "doc_1_extend      5        0    0         5      5     0       0     0   \n",
              "doc_2             1        1    1         0      0     1       0     1   \n",
              "doc_3             1        0    0         0      0     0       1     0   \n",
              "\n",
              "              listening  love  music  pie  red  round  smells  \n",
              "doc_1_extend          0     0      0    0    5      5       0  \n",
              "doc_2                 0     0      0    1    0      0       1  \n",
              "doc_3                 1     1      1    0    0      0       0  "
            ],
            "text/html": [
              "\n",
              "  <div id=\"df-4f1910cf-e3b7-4804-9de0-699241c83af0\">\n",
              "    <div class=\"colab-df-container\">\n",
              "      <div>\n",
              "<style scoped>\n",
              "    .dataframe tbody tr th:only-of-type {\n",
              "        vertical-align: middle;\n",
              "    }\n",
              "\n",
              "    .dataframe tbody tr th {\n",
              "        vertical-align: top;\n",
              "    }\n",
              "\n",
              "    .dataframe thead th {\n",
              "        text-align: right;\n",
              "    }\n",
              "</style>\n",
              "<table border=\"1\" class=\"dataframe\">\n",
              "  <thead>\n",
              "    <tr style=\"text-align: right;\">\n",
              "      <th></th>\n",
              "      <th>apple</th>\n",
              "      <th>dessert</th>\n",
              "      <th>eat</th>\n",
              "      <th>favorite</th>\n",
              "      <th>fruit</th>\n",
              "      <th>good</th>\n",
              "      <th>iphone</th>\n",
              "      <th>like</th>\n",
              "      <th>listening</th>\n",
              "      <th>love</th>\n",
              "      <th>music</th>\n",
              "      <th>pie</th>\n",
              "      <th>red</th>\n",
              "      <th>round</th>\n",
              "      <th>smells</th>\n",
              "    </tr>\n",
              "  </thead>\n",
              "  <tbody>\n",
              "    <tr>\n",
              "      <th>doc_1_extend</th>\n",
              "      <td>5</td>\n",
              "      <td>0</td>\n",
              "      <td>0</td>\n",
              "      <td>5</td>\n",
              "      <td>5</td>\n",
              "      <td>0</td>\n",
              "      <td>0</td>\n",
              "      <td>0</td>\n",
              "      <td>0</td>\n",
              "      <td>0</td>\n",
              "      <td>0</td>\n",
              "      <td>0</td>\n",
              "      <td>5</td>\n",
              "      <td>5</td>\n",
              "      <td>0</td>\n",
              "    </tr>\n",
              "    <tr>\n",
              "      <th>doc_2</th>\n",
              "      <td>1</td>\n",
              "      <td>1</td>\n",
              "      <td>1</td>\n",
              "      <td>0</td>\n",
              "      <td>0</td>\n",
              "      <td>1</td>\n",
              "      <td>0</td>\n",
              "      <td>1</td>\n",
              "      <td>0</td>\n",
              "      <td>0</td>\n",
              "      <td>0</td>\n",
              "      <td>1</td>\n",
              "      <td>0</td>\n",
              "      <td>0</td>\n",
              "      <td>1</td>\n",
              "    </tr>\n",
              "    <tr>\n",
              "      <th>doc_3</th>\n",
              "      <td>1</td>\n",
              "      <td>0</td>\n",
              "      <td>0</td>\n",
              "      <td>0</td>\n",
              "      <td>0</td>\n",
              "      <td>0</td>\n",
              "      <td>1</td>\n",
              "      <td>0</td>\n",
              "      <td>1</td>\n",
              "      <td>1</td>\n",
              "      <td>1</td>\n",
              "      <td>0</td>\n",
              "      <td>0</td>\n",
              "      <td>0</td>\n",
              "      <td>0</td>\n",
              "    </tr>\n",
              "  </tbody>\n",
              "</table>\n",
              "</div>\n",
              "      <button class=\"colab-df-convert\" onclick=\"convertToInteractive('df-4f1910cf-e3b7-4804-9de0-699241c83af0')\"\n",
              "              title=\"Convert this dataframe to an interactive table.\"\n",
              "              style=\"display:none;\">\n",
              "        \n",
              "  <svg xmlns=\"http://www.w3.org/2000/svg\" height=\"24px\"viewBox=\"0 0 24 24\"\n",
              "       width=\"24px\">\n",
              "    <path d=\"M0 0h24v24H0V0z\" fill=\"none\"/>\n",
              "    <path d=\"M18.56 5.44l.94 2.06.94-2.06 2.06-.94-2.06-.94-.94-2.06-.94 2.06-2.06.94zm-11 1L8.5 8.5l.94-2.06 2.06-.94-2.06-.94L8.5 2.5l-.94 2.06-2.06.94zm10 10l.94 2.06.94-2.06 2.06-.94-2.06-.94-.94-2.06-.94 2.06-2.06.94z\"/><path d=\"M17.41 7.96l-1.37-1.37c-.4-.4-.92-.59-1.43-.59-.52 0-1.04.2-1.43.59L10.3 9.45l-7.72 7.72c-.78.78-.78 2.05 0 2.83L4 21.41c.39.39.9.59 1.41.59.51 0 1.02-.2 1.41-.59l7.78-7.78 2.81-2.81c.8-.78.8-2.07 0-2.86zM5.41 20L4 18.59l7.72-7.72 1.47 1.35L5.41 20z\"/>\n",
              "  </svg>\n",
              "      </button>\n",
              "      \n",
              "  <style>\n",
              "    .colab-df-container {\n",
              "      display:flex;\n",
              "      flex-wrap:wrap;\n",
              "      gap: 12px;\n",
              "    }\n",
              "\n",
              "    .colab-df-convert {\n",
              "      background-color: #E8F0FE;\n",
              "      border: none;\n",
              "      border-radius: 50%;\n",
              "      cursor: pointer;\n",
              "      display: none;\n",
              "      fill: #1967D2;\n",
              "      height: 32px;\n",
              "      padding: 0 0 0 0;\n",
              "      width: 32px;\n",
              "    }\n",
              "\n",
              "    .colab-df-convert:hover {\n",
              "      background-color: #E2EBFA;\n",
              "      box-shadow: 0px 1px 2px rgba(60, 64, 67, 0.3), 0px 1px 3px 1px rgba(60, 64, 67, 0.15);\n",
              "      fill: #174EA6;\n",
              "    }\n",
              "\n",
              "    [theme=dark] .colab-df-convert {\n",
              "      background-color: #3B4455;\n",
              "      fill: #D2E3FC;\n",
              "    }\n",
              "\n",
              "    [theme=dark] .colab-df-convert:hover {\n",
              "      background-color: #434B5C;\n",
              "      box-shadow: 0px 1px 3px 1px rgba(0, 0, 0, 0.15);\n",
              "      filter: drop-shadow(0px 1px 2px rgba(0, 0, 0, 0.3));\n",
              "      fill: #FFFFFF;\n",
              "    }\n",
              "  </style>\n",
              "\n",
              "      <script>\n",
              "        const buttonEl =\n",
              "          document.querySelector('#df-4f1910cf-e3b7-4804-9de0-699241c83af0 button.colab-df-convert');\n",
              "        buttonEl.style.display =\n",
              "          google.colab.kernel.accessAllowed ? 'block' : 'none';\n",
              "\n",
              "        async function convertToInteractive(key) {\n",
              "          const element = document.querySelector('#df-4f1910cf-e3b7-4804-9de0-699241c83af0');\n",
              "          const dataTable =\n",
              "            await google.colab.kernel.invokeFunction('convertToInteractive',\n",
              "                                                     [key], {});\n",
              "          if (!dataTable) return;\n",
              "\n",
              "          const docLinkHtml = 'Like what you see? Visit the ' +\n",
              "            '<a target=\"_blank\" href=https://colab.research.google.com/notebooks/data_table.ipynb>data table notebook</a>'\n",
              "            + ' to learn more about interactive tables.';\n",
              "          element.innerHTML = '';\n",
              "          dataTable['output_type'] = 'display_data';\n",
              "          await google.colab.output.renderOutput(dataTable, element);\n",
              "          const docLink = document.createElement('div');\n",
              "          docLink.innerHTML = docLinkHtml;\n",
              "          element.appendChild(docLink);\n",
              "        }\n",
              "      </script>\n",
              "    </div>\n",
              "  </div>\n",
              "  "
            ]
          },
          "metadata": {},
          "execution_count": 22
        }
      ]
    },
    {
      "cell_type": "code",
      "source": [
        "doc_dict_with_extend = {\n",
        "    'doc_1_extend':doc_1_extend,\n",
        "    'doc_2':doc_2,\n",
        "    'doc_3':doc_3,\n",
        "}\n",
        "print('doc_1: ',doc_dict_with_extend['doc_1_extend'])\n",
        "print('doc_2: ',doc_dict_with_extend['doc_2'])\n",
        "print('doc_3: ',doc_dict_with_extend['doc_3'])"
      ],
      "metadata": {
        "colab": {
          "base_uri": "https://localhost:8080/"
        },
        "id": "zxL3M07HVTRs",
        "outputId": "ba614da0-beb0-4af1-dc38-9295140f82ac"
      },
      "execution_count": 23,
      "outputs": [
        {
          "output_type": "stream",
          "name": "stdout",
          "text": [
            "doc_1:  My favorite fruit is red and round apple. My favorite fruit is red and round apple. My favorite fruit is red and round apple. My favorite fruit is red and round apple. My favorite fruit is red and round apple.\n",
            "doc_2:  I like to eat apple pie for dessert. It smells good.\n",
            "doc_3:  I love listening to music on my apple iPhone.\n"
          ]
        }
      ]
    },
    {
      "cell_type": "markdown",
      "source": [
        "### 3-2. 문장 벡터 시각화"
      ],
      "metadata": {
        "id": "n7s3bmSAVuIX"
      }
    },
    {
      "cell_type": "markdown",
      "source": [
        "좌표평면상에 3개의 문장을 표시한다.\n",
        "(doc_1_extend, doc_2, doc_3)"
      ],
      "metadata": {
        "id": "NbncYyYkVyE1"
      }
    },
    {
      "cell_type": "code",
      "source": [
        "x_label = 'apple'\n",
        "y_label = 'fruit'\n",
        "z_label = 'iphone'\n",
        "\n",
        "fig = plt.figure(figsize=(8,8))\n",
        "ax = fig.add_subplot(projection='3d')\n",
        "\n",
        "for i, df_word in df_words_with_extend.iterrows():\n",
        "  x = df_word[x_label]\n",
        "  y = df_word[y_label]\n",
        "  z = df_word[z_label]\n",
        "  vec_len = np.linalg.norm(np.array([x, y, z]))\n",
        "  ax.quiver(0,0,0,x,y,z,arrow_length_ratio=0.1/vec_len)\n",
        "\n",
        "  if i == 'doc_1_extend':\n",
        "    text_loc = ((x-1), y, (z-1.5))\n",
        "  if i == 'doc_2':\n",
        "    text_loc = ((x+0.3), y, (z+0.5))\n",
        "  if i == 'doc_3':\n",
        "    text_loc = ((x), y, (z-2.5))\n",
        "\n",
        "  ax.text(*text_loc,\n",
        "          s=f'{i}\\n{doc_dict_with_extend[i]}',\n",
        "          size=11,\n",
        "          fontweight='bold'\n",
        "  )\n",
        "  ax.scatter(x, y, z)\n",
        "\n",
        "  ax.set_xlim(0,8)\n",
        "  ax.set_ylim(8,0)\n",
        "  ax.set_zlim(0,8)\n",
        "\n",
        "  ax.set_xlabel(x_label, fontsize=12)\n",
        "  ax.set_ylabel(y_label, fontsize=12)\n",
        "  ax.set_zlabel(z_label, fontsize=12)"
      ],
      "metadata": {
        "colab": {
          "base_uri": "https://localhost:8080/",
          "height": 466
        },
        "id": "EMw99RH5Vtzq",
        "outputId": "bddb78e4-f2fa-40f1-c989-7593602c53da"
      },
      "execution_count": 32,
      "outputs": [
        {
          "output_type": "display_data",
          "data": {
            "text/plain": [
              "<Figure size 576x576 with 1 Axes>"
            ],
            "image/png": "[encoded data removed]"
          },
          "metadata": {}
        }
      ]
    },
    {
      "cell_type": "markdown",
      "source": [
        "결과\n",
        "- doc_1의 벡터 길이가 5배 길어졌습니다.\n",
        "- doc_1과 doc_2가 이루는 각, doc_2와 doc_3가 이루는 각의 크기가 동일합니다.\n",
        "- doc_1과 doc_2의 직경 거리가 doc_2와 doc_3의 직경 거리보다 길어졌습니다."
      ],
      "metadata": {
        "id": "38_FH58NYcno"
      }
    },
    {
      "cell_type": "markdown",
      "source": [
        "### 3-3. 문장 벡터간 유사도 계산"
      ],
      "metadata": {
        "id": "b4rNzSd8YsPa"
      }
    },
    {
      "cell_type": "code",
      "source": [
        "dst_1_2_with_extend = np.linalg.norm(df_words_with_extend.loc['doc_1_extend'] - df_words_with_extend.loc['doc_2'])\n",
        "dst_2_3_with_extend = np.linalg.norm(df_words_with_extend.loc['doc_2'] - df_words_with_extend.loc['doc_3'])\n",
        "\n",
        "cos_dst_1_2_with_extend = get_cos_dst(df_words_with_extend.loc['doc_1_extend'], \n",
        "                          df_words_with_extend.loc['doc_2'])\n",
        "cos_dst_2_3_with_extend = get_cos_dst(df_words_with_extend.loc['doc_2'], \n",
        "                          df_words_with_extend.loc['doc_3'])"
      ],
      "metadata": {
        "id": "3nfNnLxkVd0f"
      },
      "execution_count": 34,
      "outputs": []
    },
    {
      "cell_type": "code",
      "source": [
        "print('='*20)\n",
        "print(f\"doc_1 : {doc_dict_with_extend['doc_1_extend']}\")\n",
        "print(f\"doc_2 : {doc_dict_with_extend['doc_2']}\")\n",
        "print(f\"euclidean distance: {round(dst_1_2_with_extend,2)}\")\n",
        "print(f\"cosine distance: {round(cos_dst_1_2_with_extend,2)}\")\n",
        "\n",
        "print('='*20)\n",
        "print(f\"doc_2 : {doc_dict_with_extend['doc_2']}\")\n",
        "print(f\"doc_3 : {doc_dict_with_extend['doc_3']}\")\n",
        "print(f\"euclidean distance: {round(dst_2_3_with_extend,2)}\")\n",
        "print(f\"cosine distance: {round(cos_dst_2_3_with_extend,2)}\")"
      ],
      "metadata": {
        "colab": {
          "base_uri": "https://localhost:8080/"
        },
        "id": "f2GxuipYZI3c",
        "outputId": "84a7effb-3eb1-4406-8fbf-26d931d3f77a"
      },
      "execution_count": 35,
      "outputs": [
        {
          "output_type": "stream",
          "name": "stdout",
          "text": [
            "====================\n",
            "doc_1 : My favorite fruit is red and round apple. My favorite fruit is red and round apple. My favorite fruit is red and round apple. My favorite fruit is red and round apple. My favorite fruit is red and round apple.\n",
            "doc_2 : I like to eat apple pie for dessert. It smells good.\n",
            "euclidean distance: 11.05\n",
            "cosine distance: 0.83\n",
            "====================\n",
            "doc_2 : I like to eat apple pie for dessert. It smells good.\n",
            "doc_3 : I love listening to music on my apple iPhone.\n",
            "euclidean distance: 3.16\n",
            "cosine distance: 0.83\n"
          ]
        }
      ]
    },
    {
      "cell_type": "markdown",
      "source": [
        "- doc_1과 doc_2의 유클리디안 거리는 **11.05**, 코사인 거리는 **0.37**\n",
        "- doc_2와 doc_3의 유클리디안 거리는 **3.16**, 코사인 거리는 0.37"
      ],
      "metadata": {
        "id": "9T8vz0gcaHwH"
      }
    },
    {
      "cell_type": "markdown",
      "source": [
        "상식적으로, doc_1, doc_2가 같은 의미의 apple을 유사성은 더 커야하지만, 이들의 직경 거리가 더 멀어졌습니다.\n",
        "반대로, 벡터가 아무리 길어져도 코사인 거리는 동일합니다."
      ],
      "metadata": {
        "id": "aMnZR9JYbH-4"
      }
    },
    {
      "cell_type": "markdown",
      "source": [
        "이를 통해 **유클리디안 거리는 문장 크기에 강한 영향을 받으며**, 코사인 거리는 문장 크기로부터 자유로움을 확인했습니다."
      ],
      "metadata": {
        "id": "--ixM_a4bRuv"
      }
    },
    {
      "cell_type": "markdown",
      "source": [
        "# 4. 선형 변환을 통한 의미상 유사도 계산"
      ],
      "metadata": {
        "id": "31KxttbZceM8"
      }
    },
    {
      "cell_type": "markdown",
      "source": [
        "우리는 위처럼 doc_1, doc_2의 연관성이 doc_2, doc_3의 연관성보다 커야 함을 알고 있습니다. 그렇다면 ‘의미가 유사한 doc_1과 doc_2는 더 가깝게, doc_3은 조금 더 멀리 떨어뜨릴 순 없을까?’에 관해 고민해 보았습니다.\n",
        "\n",
        "그 결과, 위의 시각화로 나타낸 좌표계를 바꾸는 방법이 있다는 것을 알게 됐습니다. 현재의 좌표평면의 축 (’fruit’, ‘apple’, ‘iphone’)은 빈도 수만 나타내며, 전혀 의미적인 값은 고려하지 않았습니다.\n",
        "이를 개선시켜 보도록 하겠습니다."
      ],
      "metadata": {
        "id": "O6gN7I6fcrTP"
      }
    },
    {
      "cell_type": "markdown",
      "source": [
        "### 4-1. 단어에 의미 부여하는 워드임베딩"
      ],
      "metadata": {
        "id": "N4cOvlw9eZY8"
      }
    },
    {
      "cell_type": "markdown",
      "source": [
        "선형변환을 하기 위해서는 기저벡터를 먼저 구해야 합니다. 즉, 문장이 위치할 좌표평면상 축을 구성하는 ’fruit’, ‘apple’, ‘iphone’가 각각 어디에 위치하는지, **축의 위치**를 잡는 것입니다.\n",
        "\n",
        "이를 위해서는 워드임베딩 모델을 사용합니다. 워드임베딩은 위키피디아 같은 방대한 텍스트에서 문장들을 추출하고, 각 문장 내 단어의 위치관계를 학습해 각 단어마다의 의미를 벡터로 정의하는 방식입니다."
      ],
      "metadata": {
        "id": "P_evDo4AxdJv"
      }
    },
    {
      "cell_type": "code",
      "source": [
        "from gensim import downloader, corpora, utils"
      ],
      "metadata": {
        "id": "UZlbrhbHZLfz"
      },
      "execution_count": 36,
      "outputs": []
    },
    {
      "cell_type": "markdown",
      "source": [
        "전통적으로 **word2vec** 모델이 많이 쓰이는데, word2vec 모델은 쪼갤 수 있는 최소 단위를 말그대로 '단어'로 합니다. 반면 페이스북에서 이를 더 작은 글자(text) 단위로 학습할 수 있도록 개량한 모델이 **fasttext**입니다."
      ],
      "metadata": {
        "id": "TtLaz5tlxjil"
      }
    },
    {
      "cell_type": "code",
      "source": [
        "fasttext = downloader.load('fasttext-wiki-news-subwords-300')"
      ],
      "metadata": {
        "colab": {
          "base_uri": "https://localhost:8080/"
        },
        "id": "3Ry29EvdekHI",
        "outputId": "a33802c0-ba2c-4816-b7a7-12e44ba6ab5c"
      },
      "execution_count": 37,
      "outputs": [
        {
          "output_type": "stream",
          "name": "stdout",
          "text": [
            "[==================================================] 100.0% 958.5/958.4MB downloaded\n"
          ]
        }
      ]
    },
    {
      "cell_type": "markdown",
      "source": [
        "fasttext에서 ‘apple’을 검색하면 다음과 같은 결과를 얻을 수 있습니다."
      ],
      "metadata": {
        "id": "LfMWCdyTx1Yi"
      }
    },
    {
      "cell_type": "code",
      "source": [
        "fasttext.word_vec('apple')"
      ],
      "metadata": {
        "colab": {
          "base_uri": "https://localhost:8080/"
        },
        "id": "J4Fgv5ecgtMb",
        "outputId": "7f957c39-c7eb-4556-9f91-c7ee684e611d"
      },
      "execution_count": 38,
      "outputs": [
        {
          "output_type": "execute_result",
          "data": {
            "text/plain": [
              "array([-1.3173e-01,  8.2252e-03, -4.9115e-02,  1.9050e-01, -8.0140e-02,\n",
              "       -4.3704e-02,  5.4014e-02, -1.5770e-01,  1.7366e-02, -6.3682e-02,\n",
              "       -3.5309e-02, -1.0383e-02,  3.7077e-02,  8.6940e-03,  1.2524e-02,\n",
              "        8.0532e-03,  3.6221e-02, -7.8963e-02,  5.9926e-02,  7.5806e-02,\n",
              "       -1.3051e-02,  8.9511e-02, -7.6000e-02,  2.2368e-02, -2.7079e-03,\n",
              "       -1.1801e-01, -2.1707e-04,  9.1305e-02,  1.9335e-02,  6.4755e-02,\n",
              "        1.6767e-03, -8.7875e-03,  4.7681e-02,  4.6194e-02,  6.0765e-03,\n",
              "       -8.1089e-02, -2.2951e-02, -8.4255e-02, -1.1056e-01,  3.6631e-02,\n",
              "       -9.0706e-02, -5.8909e-02, -1.5277e-01, -1.0573e-01,  6.0893e-02,\n",
              "        5.5942e-02, -5.0123e-02, -1.0179e-03,  5.0950e-02, -4.3039e-02,\n",
              "        5.1274e-02,  2.0234e-02, -5.0783e-02, -1.2145e-01, -3.3338e-03,\n",
              "       -2.3314e-02,  9.1701e-02,  4.1844e-03, -7.1584e-02, -1.1494e-01,\n",
              "       -5.3832e-02, -4.1383e-02,  1.9317e-01,  1.1936e-01, -7.1862e-02,\n",
              "       -7.1719e-02, -5.3918e-02,  9.0106e-02, -1.4384e-02, -4.9884e-02,\n",
              "       -3.2693e-02, -5.4307e-02,  1.0744e-01,  5.2375e-02, -1.2564e-01,\n",
              "       -1.4970e-02, -4.1296e-02,  2.4587e-02,  2.6073e-02, -1.0724e-01,\n",
              "       -7.4320e-02, -8.3024e-02, -1.8534e-02,  1.0437e-01,  1.0980e-03,\n",
              "       -2.7799e-03,  6.6654e-03, -1.4502e-02,  3.1187e-03,  4.4294e-02,\n",
              "        6.5360e-02,  6.3962e-02, -1.1459e-01, -9.9760e-02,  7.5195e-02,\n",
              "        6.0407e-02,  4.6507e-03,  3.4435e-03,  2.2611e-02,  1.2921e-01,\n",
              "       -4.5780e-04,  4.2142e-02, -1.3695e-03, -1.1607e-03,  2.5196e-02,\n",
              "       -1.6089e-01,  2.3866e-02,  1.2499e-01,  3.6196e-02,  1.4335e-02,\n",
              "       -7.4531e-02,  1.1224e-01,  3.2265e-02,  1.4272e-01,  6.4251e-02,\n",
              "        1.5562e-02, -2.7682e-02,  1.6290e-02, -2.5641e-02,  1.4403e-02,\n",
              "       -9.0408e-02, -2.2686e-02, -8.0900e-02, -7.1530e-02,  9.5313e-02,\n",
              "        2.8681e-02,  5.3568e-02, -1.4304e-01, -7.8774e-02,  5.2541e-02,\n",
              "       -5.5802e-02, -2.2695e-02,  6.7090e-03, -2.4263e-02, -1.0231e-01,\n",
              "       -8.3910e-02, -1.1072e-01,  7.9029e-02, -1.0186e-02,  7.0620e-02,\n",
              "        5.3676e-02,  2.6546e-02,  1.3727e-02,  7.2691e-02,  5.1156e-02,\n",
              "       -1.2132e-02,  4.1740e-02, -1.0037e-02,  2.5895e-02, -6.7975e-02,\n",
              "        5.4311e-03,  6.3870e-03,  7.6074e-02,  3.7721e-02, -2.9064e-02,\n",
              "       -5.3690e-02, -3.2621e-02, -7.4537e-02, -1.1926e-01,  3.4239e-02,\n",
              "        3.3650e-02, -2.5285e-02, -1.0987e-02, -8.3617e-02,  7.2959e-02,\n",
              "        2.3546e-03,  4.6494e-02,  1.1436e-01, -1.6780e-05,  4.2504e-02,\n",
              "       -1.7745e-02,  8.3414e-03,  1.3612e-02,  2.9922e-02,  2.3006e-02,\n",
              "        1.0602e-01, -3.6217e-02, -1.0499e-02,  4.7121e-03, -1.3706e-02,\n",
              "       -8.9689e-02,  4.1900e-02,  2.2526e-02, -1.7248e-01, -8.9271e-03,\n",
              "       -1.8164e-02,  4.8371e-02,  1.8906e-01,  7.1726e-02,  4.8317e-02,\n",
              "       -1.1840e-01,  3.8777e-02, -2.8679e-02, -3.7448e-02,  6.4036e-02,\n",
              "       -1.4455e-02,  1.9644e-02,  8.7858e-02, -2.6270e-02, -3.4774e-02,\n",
              "       -1.9948e-01,  5.0861e-02, -2.9811e-02, -1.2086e-02, -1.0507e-02,\n",
              "       -1.0038e-01,  8.1341e-02, -2.4949e-02,  5.0307e-02, -1.8349e-02,\n",
              "        1.8619e-01,  6.3901e-03, -3.4998e-02,  1.1706e-02, -1.1474e-02,\n",
              "        3.5743e-02,  3.4792e-02,  1.7755e-02,  6.0962e-02,  1.1139e-02,\n",
              "        4.9137e-02,  1.9466e-02, -1.3930e-02,  1.3103e-01, -8.4763e-03,\n",
              "       -8.4280e-02,  3.2387e-02,  4.8645e-02, -7.3137e-02,  2.8458e-02,\n",
              "        3.3951e-02, -6.6427e-02, -1.1953e-01,  2.3548e-02,  2.7033e-02,\n",
              "        7.9835e-02, -3.4999e-02, -1.2918e-01,  3.7657e-02, -8.5901e-02,\n",
              "        1.3334e-01,  1.0157e-01,  8.1477e-03, -4.1384e-02, -8.3518e-02,\n",
              "       -5.6840e-03,  1.7198e-01,  6.2914e-02, -3.8077e-02, -6.1944e-02,\n",
              "       -3.5063e-02, -2.5159e-02, -9.4236e-02,  6.5833e-02,  5.4420e-02,\n",
              "       -7.9028e-02, -7.7122e-02, -2.4582e-02, -1.6090e-02,  4.5174e-02,\n",
              "       -3.0826e-02, -2.2788e-02,  6.1227e-02, -1.1523e-01,  1.4651e-01,\n",
              "       -2.7860e-02, -2.0520e-02, -2.8551e-02, -5.0276e-02,  7.4979e-02,\n",
              "       -3.8086e-02,  1.3407e-01, -9.6591e-02, -5.2761e-02,  3.4921e-02,\n",
              "       -6.8454e-02, -2.9234e-02,  1.8266e-02,  5.7314e-02,  8.7287e-03,\n",
              "        6.6471e-02, -3.6971e-02,  1.0311e-01, -5.5316e-02, -5.9477e-02,\n",
              "       -5.6116e-02, -5.0524e-02, -3.7173e-02,  1.2628e-02, -7.6296e-03,\n",
              "       -5.7117e-02,  6.3727e-03, -8.2037e-02, -3.9698e-02,  3.8683e-02,\n",
              "       -1.2769e-01, -6.9763e-02,  6.9845e-02,  2.8841e-03,  7.1757e-02],\n",
              "      dtype=float32)"
            ]
          },
          "metadata": {},
          "execution_count": 38
        }
      ]
    },
    {
      "cell_type": "code",
      "source": [
        "fasttext.word_vec('apple').shape"
      ],
      "metadata": {
        "colab": {
          "base_uri": "https://localhost:8080/"
        },
        "id": "yiK4N--9gzCK",
        "outputId": "a6e78a1c-8237-4e5b-bf1f-dc2c724f764a"
      },
      "execution_count": 39,
      "outputs": [
        {
          "output_type": "execute_result",
          "data": {
            "text/plain": [
              "(300,)"
            ]
          },
          "metadata": {},
          "execution_count": 39
        }
      ]
    },
    {
      "cell_type": "markdown",
      "source": [
        "fasttext에서 얻어낸 apple은 **300차원**짜리 벡터입니다. 좌표계를 그리기 위해서는 이 큰 차원의 벡터를 최대 3차원으로 바꿔주어야 합니다."
      ],
      "metadata": {
        "id": "wOm-hX_jx49c"
      }
    },
    {
      "cell_type": "markdown",
      "source": [
        "### 4-2. PCA(차원 축소)"
      ],
      "metadata": {
        "id": "ybqXuLeziOa5"
      }
    },
    {
      "cell_type": "markdown",
      "source": [
        "다행히 **비지도학습 기반 차원축소 기법**을 사용할 수 있습니다. 차원축소는 다차원 데이터를 더 작은 데이터로 압축하는 방법이며, 데이터가 가지고 있는 본연의 특성을 최대한 유지하면서 변수를 줄일 수 있습니다. 물론, 300차원을 3차원으로 축소하게 되면 그만큼 **정보손실**이 발생합니다. 그러나 우리는 머신러닝 모델링이 아니라 단순히 3차원 좌표계로 문서간 거리를 확인하고자 함이므로 정보손실을 감수하고 차원을 줄이도록 하겠습니다.\n",
        "\n",
        "차원 축소를 위해서 'apple', 'fruit', 'iphone' 3가지 값을 포함해 관련 단어들을 각 단어당 200개씩 추출해서 데이터를 구성하겠습니다. 이렇게 하는 이유는 'apple', 'fruit', 'iphone' 각 단어의 유사 군집을 함께 비지도학습 시킴으로써 상대적으로 3개 단어의 위치정보를 인지시키기 위해서입니다. 이렇게 했을 때 큰 정보손실에도 고유의 군집 특성을 남길 수 있습니다."
      ],
      "metadata": {
        "id": "tYTBzj7IyECk"
      }
    },
    {
      "cell_type": "markdown",
      "source": [
        "1. 우선, 연관 단어를 모두 추출합니다."
      ],
      "metadata": {
        "id": "ErzqlwuwjDvw"
      }
    },
    {
      "cell_type": "code",
      "source": [
        "target_words = ['apple','fruit','iphone']\n",
        "sim_words_1 = [x[0] for x in fasttext.most_similar(target_words[0], topn=200)]\n",
        "sim_words_2 = [x[0] for x in fasttext.most_similar(target_words[1], topn=200)]\n",
        "sim_words_3 = [x[0] for x in fasttext.most_similar(target_words[2], topn=200)]\n",
        "\n",
        "\n",
        "all_words = target_words + sim_words_1 + sim_words_2 + sim_words_3"
      ],
      "metadata": {
        "id": "u7dtQmqmh4zy"
      },
      "execution_count": 40,
      "outputs": []
    },
    {
      "cell_type": "code",
      "source": [
        "len(all_words)"
      ],
      "metadata": {
        "colab": {
          "base_uri": "https://localhost:8080/"
        },
        "id": "IwNtb_UUjVT8",
        "outputId": "00267dee-ada8-432d-a310-3065b1221439"
      },
      "execution_count": 41,
      "outputs": [
        {
          "output_type": "execute_result",
          "data": {
            "text/plain": [
              "603"
            ]
          },
          "metadata": {},
          "execution_count": 41
        }
      ]
    },
    {
      "cell_type": "markdown",
      "source": [
        "2. 모든 단어에 대한 300차원의 벡터 값을 불러옵니다."
      ],
      "metadata": {
        "id": "0oA4F8hxyPqG"
      }
    },
    {
      "cell_type": "code",
      "source": [
        "word_vecs_300d = np.array([fasttext.word_vec(x) for x in all_words])"
      ],
      "metadata": {
        "id": "K1iP5FXgjqWT"
      },
      "execution_count": 42,
      "outputs": []
    },
    {
      "cell_type": "code",
      "source": [
        "word_vecs_300d.shape"
      ],
      "metadata": {
        "colab": {
          "base_uri": "https://localhost:8080/"
        },
        "id": "3IZ1EunKjybF",
        "outputId": "2b844c02-ca4b-4408-dc8c-1b694fa2a12a"
      },
      "execution_count": 43,
      "outputs": [
        {
          "output_type": "execute_result",
          "data": {
            "text/plain": [
              "(603, 300)"
            ]
          },
          "metadata": {},
          "execution_count": 43
        }
      ]
    },
    {
      "cell_type": "markdown",
      "source": [
        "3. PCA 모델을 통해 차원을 축소합니다."
      ],
      "metadata": {
        "id": "mhq2lh7eyTwz"
      }
    },
    {
      "cell_type": "markdown",
      "source": [
        "- sklearn 패키지에서 제공하는 PCA 모델\n",
        "- n_componnents 파라미터를 통해 축소할 차원을 3차원으로 설정 후, 결과값을 데이터 프레임으로 생성"
      ],
      "metadata": {
        "id": "sMRraglQj1_y"
      }
    },
    {
      "cell_type": "code",
      "source": [
        "from sklearn.decomposition import PCA\n",
        "\n",
        "pca_3d = PCA(n_components=3)\n",
        "comps = pca_3d.fit_transform(word_vecs_300d)\n",
        "df_comps = pd.DataFrame(comps,\n",
        "                        columns=['comp_1', 'comp_2', 'comp_3'],\n",
        "                        index=all_words\n",
        ")"
      ],
      "metadata": {
        "id": "-9-zwqF_j0jv"
      },
      "execution_count": 44,
      "outputs": []
    },
    {
      "cell_type": "code",
      "source": [
        "df_comps"
      ],
      "metadata": {
        "colab": {
          "base_uri": "https://localhost:8080/",
          "height": 424
        },
        "id": "7j-e0F87kcxk",
        "outputId": "cf910f06-67b0-43f9-bd69-fdc95030c7b7"
      },
      "execution_count": 45,
      "outputs": [
        {
          "output_type": "execute_result",
          "data": {
            "text/plain": [
              "            comp_1    comp_2    comp_3\n",
              "apple    -0.185049  0.569729 -0.076897\n",
              "fruit    -0.531779  0.208954  0.179814\n",
              "iphone    0.534580  0.316809 -0.034069\n",
              "apples   -0.281418  0.329836  0.259692\n",
              "pear     -0.473928  0.529587 -0.054930\n",
              "...            ...       ...       ...\n",
              "celphone  0.129118 -0.146307 -0.119441\n",
              "Imac      0.354441  0.118560  0.023122\n",
              "SIM-only  0.228033 -0.166571 -0.027691\n",
              "webkit    0.266324 -0.025131 -0.142303\n",
              "iLife     0.374437  0.065491  0.101907\n",
              "\n",
              "[603 rows x 3 columns]"
            ],
            "text/html": [
              "\n",
              "  <div id=\"df-de528d22-de4a-44a4-a2d0-e69a12330ca4\">\n",
              "    <div class=\"colab-df-container\">\n",
              "      <div>\n",
              "<style scoped>\n",
              "    .dataframe tbody tr th:only-of-type {\n",
              "        vertical-align: middle;\n",
              "    }\n",
              "\n",
              "    .dataframe tbody tr th {\n",
              "        vertical-align: top;\n",
              "    }\n",
              "\n",
              "    .dataframe thead th {\n",
              "        text-align: right;\n",
              "    }\n",
              "</style>\n",
              "<table border=\"1\" class=\"dataframe\">\n",
              "  <thead>\n",
              "    <tr style=\"text-align: right;\">\n",
              "      <th></th>\n",
              "      <th>comp_1</th>\n",
              "      <th>comp_2</th>\n",
              "      <th>comp_3</th>\n",
              "    </tr>\n",
              "  </thead>\n",
              "  <tbody>\n",
              "    <tr>\n",
              "      <th>apple</th>\n",
              "      <td>-0.185049</td>\n",
              "      <td>0.569729</td>\n",
              "      <td>-0.076897</td>\n",
              "    </tr>\n",
              "    <tr>\n",
              "      <th>fruit</th>\n",
              "      <td>-0.531779</td>\n",
              "      <td>0.208954</td>\n",
              "      <td>0.179814</td>\n",
              "    </tr>\n",
              "    <tr>\n",
              "      <th>iphone</th>\n",
              "      <td>0.534580</td>\n",
              "      <td>0.316809</td>\n",
              "      <td>-0.034069</td>\n",
              "    </tr>\n",
              "    <tr>\n",
              "      <th>apples</th>\n",
              "      <td>-0.281418</td>\n",
              "      <td>0.329836</td>\n",
              "      <td>0.259692</td>\n",
              "    </tr>\n",
              "    <tr>\n",
              "      <th>pear</th>\n",
              "      <td>-0.473928</td>\n",
              "      <td>0.529587</td>\n",
              "      <td>-0.054930</td>\n",
              "    </tr>\n",
              "    <tr>\n",
              "      <th>...</th>\n",
              "      <td>...</td>\n",
              "      <td>...</td>\n",
              "      <td>...</td>\n",
              "    </tr>\n",
              "    <tr>\n",
              "      <th>celphone</th>\n",
              "      <td>0.129118</td>\n",
              "      <td>-0.146307</td>\n",
              "      <td>-0.119441</td>\n",
              "    </tr>\n",
              "    <tr>\n",
              "      <th>Imac</th>\n",
              "      <td>0.354441</td>\n",
              "      <td>0.118560</td>\n",
              "      <td>0.023122</td>\n",
              "    </tr>\n",
              "    <tr>\n",
              "      <th>SIM-only</th>\n",
              "      <td>0.228033</td>\n",
              "      <td>-0.166571</td>\n",
              "      <td>-0.027691</td>\n",
              "    </tr>\n",
              "    <tr>\n",
              "      <th>webkit</th>\n",
              "      <td>0.266324</td>\n",
              "      <td>-0.025131</td>\n",
              "      <td>-0.142303</td>\n",
              "    </tr>\n",
              "    <tr>\n",
              "      <th>iLife</th>\n",
              "      <td>0.374437</td>\n",
              "      <td>0.065491</td>\n",
              "      <td>0.101907</td>\n",
              "    </tr>\n",
              "  </tbody>\n",
              "</table>\n",
              "<p>603 rows × 3 columns</p>\n",
              "</div>\n",
              "      <button class=\"colab-df-convert\" onclick=\"convertToInteractive('df-de528d22-de4a-44a4-a2d0-e69a12330ca4')\"\n",
              "              title=\"Convert this dataframe to an interactive table.\"\n",
              "              style=\"display:none;\">\n",
              "        \n",
              "  <svg xmlns=\"http://www.w3.org/2000/svg\" height=\"24px\"viewBox=\"0 0 24 24\"\n",
              "       width=\"24px\">\n",
              "    <path d=\"M0 0h24v24H0V0z\" fill=\"none\"/>\n",
              "    <path d=\"M18.56 5.44l.94 2.06.94-2.06 2.06-.94-2.06-.94-.94-2.06-.94 2.06-2.06.94zm-11 1L8.5 8.5l.94-2.06 2.06-.94-2.06-.94L8.5 2.5l-.94 2.06-2.06.94zm10 10l.94 2.06.94-2.06 2.06-.94-2.06-.94-.94-2.06-.94 2.06-2.06.94z\"/><path d=\"M17.41 7.96l-1.37-1.37c-.4-.4-.92-.59-1.43-.59-.52 0-1.04.2-1.43.59L10.3 9.45l-7.72 7.72c-.78.78-.78 2.05 0 2.83L4 21.41c.39.39.9.59 1.41.59.51 0 1.02-.2 1.41-.59l7.78-7.78 2.81-2.81c.8-.78.8-2.07 0-2.86zM5.41 20L4 18.59l7.72-7.72 1.47 1.35L5.41 20z\"/>\n",
              "  </svg>\n",
              "      </button>\n",
              "      \n",
              "  <style>\n",
              "    .colab-df-container {\n",
              "      display:flex;\n",
              "      flex-wrap:wrap;\n",
              "      gap: 12px;\n",
              "    }\n",
              "\n",
              "    .colab-df-convert {\n",
              "      background-color: #E8F0FE;\n",
              "      border: none;\n",
              "      border-radius: 50%;\n",
              "      cursor: pointer;\n",
              "      display: none;\n",
              "      fill: #1967D2;\n",
              "      height: 32px;\n",
              "      padding: 0 0 0 0;\n",
              "      width: 32px;\n",
              "    }\n",
              "\n",
              "    .colab-df-convert:hover {\n",
              "      background-color: #E2EBFA;\n",
              "      box-shadow: 0px 1px 2px rgba(60, 64, 67, 0.3), 0px 1px 3px 1px rgba(60, 64, 67, 0.15);\n",
              "      fill: #174EA6;\n",
              "    }\n",
              "\n",
              "    [theme=dark] .colab-df-convert {\n",
              "      background-color: #3B4455;\n",
              "      fill: #D2E3FC;\n",
              "    }\n",
              "\n",
              "    [theme=dark] .colab-df-convert:hover {\n",
              "      background-color: #434B5C;\n",
              "      box-shadow: 0px 1px 3px 1px rgba(0, 0, 0, 0.15);\n",
              "      filter: drop-shadow(0px 1px 2px rgba(0, 0, 0, 0.3));\n",
              "      fill: #FFFFFF;\n",
              "    }\n",
              "  </style>\n",
              "\n",
              "      <script>\n",
              "        const buttonEl =\n",
              "          document.querySelector('#df-de528d22-de4a-44a4-a2d0-e69a12330ca4 button.colab-df-convert');\n",
              "        buttonEl.style.display =\n",
              "          google.colab.kernel.accessAllowed ? 'block' : 'none';\n",
              "\n",
              "        async function convertToInteractive(key) {\n",
              "          const element = document.querySelector('#df-de528d22-de4a-44a4-a2d0-e69a12330ca4');\n",
              "          const dataTable =\n",
              "            await google.colab.kernel.invokeFunction('convertToInteractive',\n",
              "                                                     [key], {});\n",
              "          if (!dataTable) return;\n",
              "\n",
              "          const docLinkHtml = 'Like what you see? Visit the ' +\n",
              "            '<a target=\"_blank\" href=https://colab.research.google.com/notebooks/data_table.ipynb>data table notebook</a>'\n",
              "            + ' to learn more about interactive tables.';\n",
              "          element.innerHTML = '';\n",
              "          dataTable['output_type'] = 'display_data';\n",
              "          await google.colab.output.renderOutput(dataTable, element);\n",
              "          const docLink = document.createElement('div');\n",
              "          docLink.innerHTML = docLinkHtml;\n",
              "          element.appendChild(docLink);\n",
              "        }\n",
              "      </script>\n",
              "    </div>\n",
              "  </div>\n",
              "  "
            ]
          },
          "metadata": {},
          "execution_count": 45
        }
      ]
    },
    {
      "cell_type": "code",
      "source": [
        "df_comps.max()"
      ],
      "metadata": {
        "colab": {
          "base_uri": "https://localhost:8080/"
        },
        "id": "CFm2_9dwkder",
        "outputId": "7b27d6a7-9346-48fc-92d2-63fb9889c6fd"
      },
      "execution_count": 46,
      "outputs": [
        {
          "output_type": "execute_result",
          "data": {
            "text/plain": [
              "comp_1    0.819288\n",
              "comp_2    0.660785\n",
              "comp_3    0.589784\n",
              "dtype: float32"
            ]
          },
          "metadata": {},
          "execution_count": 46
        }
      ]
    },
    {
      "cell_type": "code",
      "source": [
        "df_comps.min()"
      ],
      "metadata": {
        "colab": {
          "base_uri": "https://localhost:8080/"
        },
        "id": "bJ5bc7pskm9_",
        "outputId": "3580a8a7-bae8-447f-80ea-cb62172a5b1c"
      },
      "execution_count": 47,
      "outputs": [
        {
          "output_type": "execute_result",
          "data": {
            "text/plain": [
              "comp_1   -0.531779\n",
              "comp_2   -0.280757\n",
              "comp_3   -0.350645\n",
              "dtype: float32"
            ]
          },
          "metadata": {},
          "execution_count": 47
        }
      ]
    },
    {
      "cell_type": "code",
      "source": [
        " target_words = ['apple','fruit','iphone']\n",
        " df_targets = df_comps.loc[target_words]\n",
        " df_targets"
      ],
      "metadata": {
        "colab": {
          "base_uri": "https://localhost:8080/",
          "height": 269
        },
        "id": "dHp1pQi83_WW",
        "outputId": "3a237a39-ff80-4af7-e52d-80a156cc4d74"
      },
      "execution_count": 49,
      "outputs": [
        {
          "output_type": "execute_result",
          "data": {
            "text/plain": [
              "          comp_1    comp_2    comp_3\n",
              "apple  -0.185049  0.569729 -0.076897\n",
              "apple  -0.185050  0.569729 -0.076897\n",
              "apple  -0.185050  0.569729 -0.076897\n",
              "fruit  -0.531779  0.208954  0.179814\n",
              "fruit  -0.531779  0.208953  0.179814\n",
              "iphone  0.534580  0.316809 -0.034069\n",
              "iphone  0.534580  0.316809 -0.034069"
            ],
            "text/html": [
              "\n",
              "  <div id=\"df-14b09d1f-c5aa-462d-9ed6-9748dd156100\">\n",
              "    <div class=\"colab-df-container\">\n",
              "      <div>\n",
              "<style scoped>\n",
              "    .dataframe tbody tr th:only-of-type {\n",
              "        vertical-align: middle;\n",
              "    }\n",
              "\n",
              "    .dataframe tbody tr th {\n",
              "        vertical-align: top;\n",
              "    }\n",
              "\n",
              "    .dataframe thead th {\n",
              "        text-align: right;\n",
              "    }\n",
              "</style>\n",
              "<table border=\"1\" class=\"dataframe\">\n",
              "  <thead>\n",
              "    <tr style=\"text-align: right;\">\n",
              "      <th></th>\n",
              "      <th>comp_1</th>\n",
              "      <th>comp_2</th>\n",
              "      <th>comp_3</th>\n",
              "    </tr>\n",
              "  </thead>\n",
              "  <tbody>\n",
              "    <tr>\n",
              "      <th>apple</th>\n",
              "      <td>-0.185049</td>\n",
              "      <td>0.569729</td>\n",
              "      <td>-0.076897</td>\n",
              "    </tr>\n",
              "    <tr>\n",
              "      <th>apple</th>\n",
              "      <td>-0.185050</td>\n",
              "      <td>0.569729</td>\n",
              "      <td>-0.076897</td>\n",
              "    </tr>\n",
              "    <tr>\n",
              "      <th>apple</th>\n",
              "      <td>-0.185050</td>\n",
              "      <td>0.569729</td>\n",
              "      <td>-0.076897</td>\n",
              "    </tr>\n",
              "    <tr>\n",
              "      <th>fruit</th>\n",
              "      <td>-0.531779</td>\n",
              "      <td>0.208954</td>\n",
              "      <td>0.179814</td>\n",
              "    </tr>\n",
              "    <tr>\n",
              "      <th>fruit</th>\n",
              "      <td>-0.531779</td>\n",
              "      <td>0.208953</td>\n",
              "      <td>0.179814</td>\n",
              "    </tr>\n",
              "    <tr>\n",
              "      <th>iphone</th>\n",
              "      <td>0.534580</td>\n",
              "      <td>0.316809</td>\n",
              "      <td>-0.034069</td>\n",
              "    </tr>\n",
              "    <tr>\n",
              "      <th>iphone</th>\n",
              "      <td>0.534580</td>\n",
              "      <td>0.316809</td>\n",
              "      <td>-0.034069</td>\n",
              "    </tr>\n",
              "  </tbody>\n",
              "</table>\n",
              "</div>\n",
              "      <button class=\"colab-df-convert\" onclick=\"convertToInteractive('df-14b09d1f-c5aa-462d-9ed6-9748dd156100')\"\n",
              "              title=\"Convert this dataframe to an interactive table.\"\n",
              "              style=\"display:none;\">\n",
              "        \n",
              "  <svg xmlns=\"http://www.w3.org/2000/svg\" height=\"24px\"viewBox=\"0 0 24 24\"\n",
              "       width=\"24px\">\n",
              "    <path d=\"M0 0h24v24H0V0z\" fill=\"none\"/>\n",
              "    <path d=\"M18.56 5.44l.94 2.06.94-2.06 2.06-.94-2.06-.94-.94-2.06-.94 2.06-2.06.94zm-11 1L8.5 8.5l.94-2.06 2.06-.94-2.06-.94L8.5 2.5l-.94 2.06-2.06.94zm10 10l.94 2.06.94-2.06 2.06-.94-2.06-.94-.94-2.06-.94 2.06-2.06.94z\"/><path d=\"M17.41 7.96l-1.37-1.37c-.4-.4-.92-.59-1.43-.59-.52 0-1.04.2-1.43.59L10.3 9.45l-7.72 7.72c-.78.78-.78 2.05 0 2.83L4 21.41c.39.39.9.59 1.41.59.51 0 1.02-.2 1.41-.59l7.78-7.78 2.81-2.81c.8-.78.8-2.07 0-2.86zM5.41 20L4 18.59l7.72-7.72 1.47 1.35L5.41 20z\"/>\n",
              "  </svg>\n",
              "      </button>\n",
              "      \n",
              "  <style>\n",
              "    .colab-df-container {\n",
              "      display:flex;\n",
              "      flex-wrap:wrap;\n",
              "      gap: 12px;\n",
              "    }\n",
              "\n",
              "    .colab-df-convert {\n",
              "      background-color: #E8F0FE;\n",
              "      border: none;\n",
              "      border-radius: 50%;\n",
              "      cursor: pointer;\n",
              "      display: none;\n",
              "      fill: #1967D2;\n",
              "      height: 32px;\n",
              "      padding: 0 0 0 0;\n",
              "      width: 32px;\n",
              "    }\n",
              "\n",
              "    .colab-df-convert:hover {\n",
              "      background-color: #E2EBFA;\n",
              "      box-shadow: 0px 1px 2px rgba(60, 64, 67, 0.3), 0px 1px 3px 1px rgba(60, 64, 67, 0.15);\n",
              "      fill: #174EA6;\n",
              "    }\n",
              "\n",
              "    [theme=dark] .colab-df-convert {\n",
              "      background-color: #3B4455;\n",
              "      fill: #D2E3FC;\n",
              "    }\n",
              "\n",
              "    [theme=dark] .colab-df-convert:hover {\n",
              "      background-color: #434B5C;\n",
              "      box-shadow: 0px 1px 3px 1px rgba(0, 0, 0, 0.15);\n",
              "      filter: drop-shadow(0px 1px 2px rgba(0, 0, 0, 0.3));\n",
              "      fill: #FFFFFF;\n",
              "    }\n",
              "  </style>\n",
              "\n",
              "      <script>\n",
              "        const buttonEl =\n",
              "          document.querySelector('#df-14b09d1f-c5aa-462d-9ed6-9748dd156100 button.colab-df-convert');\n",
              "        buttonEl.style.display =\n",
              "          google.colab.kernel.accessAllowed ? 'block' : 'none';\n",
              "\n",
              "        async function convertToInteractive(key) {\n",
              "          const element = document.querySelector('#df-14b09d1f-c5aa-462d-9ed6-9748dd156100');\n",
              "          const dataTable =\n",
              "            await google.colab.kernel.invokeFunction('convertToInteractive',\n",
              "                                                     [key], {});\n",
              "          if (!dataTable) return;\n",
              "\n",
              "          const docLinkHtml = 'Like what you see? Visit the ' +\n",
              "            '<a target=\"_blank\" href=https://colab.research.google.com/notebooks/data_table.ipynb>data table notebook</a>'\n",
              "            + ' to learn more about interactive tables.';\n",
              "          element.innerHTML = '';\n",
              "          dataTable['output_type'] = 'display_data';\n",
              "          await google.colab.output.renderOutput(dataTable, element);\n",
              "          const docLink = document.createElement('div');\n",
              "          docLink.innerHTML = docLinkHtml;\n",
              "          element.appendChild(docLink);\n",
              "        }\n",
              "      </script>\n",
              "    </div>\n",
              "  </div>\n",
              "  "
            ]
          },
          "metadata": {},
          "execution_count": 49
        }
      ]
    },
    {
      "cell_type": "markdown",
      "source": [
        "위 코드에서 문제가 발생했습니다.\n",
        "위처럼 실행시킨 결과는 3개의 apple, 2개의 fruit, 2개의 iphone을 가져옵니다.\n",
        "\n",
        "이는 fasttext.most_similar() 함수를 실행할 때 fruit과 iphone은 apple을, apple은 fruit과 iphone을 가져왔기 때문으로 추정됩니다.\n",
        "\n",
        "이를 위해 아래 코드를 실행하여 중복 항목을 없애줍니다."
      ],
      "metadata": {
        "id": "1gJJ8VLKzezN"
      }
    },
    {
      "cell_type": "code",
      "source": [
        "df_targets = df_targets.round(5)\n",
        "df_targets = df_targets.drop_duplicates()"
      ],
      "metadata": {
        "id": "nLjCM9kDzo9j"
      },
      "execution_count": 51,
      "outputs": []
    },
    {
      "cell_type": "code",
      "source": [
        "df_targets"
      ],
      "metadata": {
        "colab": {
          "base_uri": "https://localhost:8080/",
          "height": 143
        },
        "id": "i4kzs_b_zqWW",
        "outputId": "a0268a84-7c80-4674-fcb3-e59bd0bdde90"
      },
      "execution_count": 52,
      "outputs": [
        {
          "output_type": "execute_result",
          "data": {
            "text/plain": [
              "         comp_1   comp_2   comp_3\n",
              "apple  -0.18505  0.56973 -0.07690\n",
              "fruit  -0.53178  0.20895  0.17981\n",
              "iphone  0.53458  0.31681 -0.03407"
            ],
            "text/html": [
              "\n",
              "  <div id=\"df-07858f9b-b084-444e-b57b-814bde8b4326\">\n",
              "    <div class=\"colab-df-container\">\n",
              "      <div>\n",
              "<style scoped>\n",
              "    .dataframe tbody tr th:only-of-type {\n",
              "        vertical-align: middle;\n",
              "    }\n",
              "\n",
              "    .dataframe tbody tr th {\n",
              "        vertical-align: top;\n",
              "    }\n",
              "\n",
              "    .dataframe thead th {\n",
              "        text-align: right;\n",
              "    }\n",
              "</style>\n",
              "<table border=\"1\" class=\"dataframe\">\n",
              "  <thead>\n",
              "    <tr style=\"text-align: right;\">\n",
              "      <th></th>\n",
              "      <th>comp_1</th>\n",
              "      <th>comp_2</th>\n",
              "      <th>comp_3</th>\n",
              "    </tr>\n",
              "  </thead>\n",
              "  <tbody>\n",
              "    <tr>\n",
              "      <th>apple</th>\n",
              "      <td>-0.18505</td>\n",
              "      <td>0.56973</td>\n",
              "      <td>-0.07690</td>\n",
              "    </tr>\n",
              "    <tr>\n",
              "      <th>fruit</th>\n",
              "      <td>-0.53178</td>\n",
              "      <td>0.20895</td>\n",
              "      <td>0.17981</td>\n",
              "    </tr>\n",
              "    <tr>\n",
              "      <th>iphone</th>\n",
              "      <td>0.53458</td>\n",
              "      <td>0.31681</td>\n",
              "      <td>-0.03407</td>\n",
              "    </tr>\n",
              "  </tbody>\n",
              "</table>\n",
              "</div>\n",
              "      <button class=\"colab-df-convert\" onclick=\"convertToInteractive('df-07858f9b-b084-444e-b57b-814bde8b4326')\"\n",
              "              title=\"Convert this dataframe to an interactive table.\"\n",
              "              style=\"display:none;\">\n",
              "        \n",
              "  <svg xmlns=\"http://www.w3.org/2000/svg\" height=\"24px\"viewBox=\"0 0 24 24\"\n",
              "       width=\"24px\">\n",
              "    <path d=\"M0 0h24v24H0V0z\" fill=\"none\"/>\n",
              "    <path d=\"M18.56 5.44l.94 2.06.94-2.06 2.06-.94-2.06-.94-.94-2.06-.94 2.06-2.06.94zm-11 1L8.5 8.5l.94-2.06 2.06-.94-2.06-.94L8.5 2.5l-.94 2.06-2.06.94zm10 10l.94 2.06.94-2.06 2.06-.94-2.06-.94-.94-2.06-.94 2.06-2.06.94z\"/><path d=\"M17.41 7.96l-1.37-1.37c-.4-.4-.92-.59-1.43-.59-.52 0-1.04.2-1.43.59L10.3 9.45l-7.72 7.72c-.78.78-.78 2.05 0 2.83L4 21.41c.39.39.9.59 1.41.59.51 0 1.02-.2 1.41-.59l7.78-7.78 2.81-2.81c.8-.78.8-2.07 0-2.86zM5.41 20L4 18.59l7.72-7.72 1.47 1.35L5.41 20z\"/>\n",
              "  </svg>\n",
              "      </button>\n",
              "      \n",
              "  <style>\n",
              "    .colab-df-container {\n",
              "      display:flex;\n",
              "      flex-wrap:wrap;\n",
              "      gap: 12px;\n",
              "    }\n",
              "\n",
              "    .colab-df-convert {\n",
              "      background-color: #E8F0FE;\n",
              "      border: none;\n",
              "      border-radius: 50%;\n",
              "      cursor: pointer;\n",
              "      display: none;\n",
              "      fill: #1967D2;\n",
              "      height: 32px;\n",
              "      padding: 0 0 0 0;\n",
              "      width: 32px;\n",
              "    }\n",
              "\n",
              "    .colab-df-convert:hover {\n",
              "      background-color: #E2EBFA;\n",
              "      box-shadow: 0px 1px 2px rgba(60, 64, 67, 0.3), 0px 1px 3px 1px rgba(60, 64, 67, 0.15);\n",
              "      fill: #174EA6;\n",
              "    }\n",
              "\n",
              "    [theme=dark] .colab-df-convert {\n",
              "      background-color: #3B4455;\n",
              "      fill: #D2E3FC;\n",
              "    }\n",
              "\n",
              "    [theme=dark] .colab-df-convert:hover {\n",
              "      background-color: #434B5C;\n",
              "      box-shadow: 0px 1px 3px 1px rgba(0, 0, 0, 0.15);\n",
              "      filter: drop-shadow(0px 1px 2px rgba(0, 0, 0, 0.3));\n",
              "      fill: #FFFFFF;\n",
              "    }\n",
              "  </style>\n",
              "\n",
              "      <script>\n",
              "        const buttonEl =\n",
              "          document.querySelector('#df-07858f9b-b084-444e-b57b-814bde8b4326 button.colab-df-convert');\n",
              "        buttonEl.style.display =\n",
              "          google.colab.kernel.accessAllowed ? 'block' : 'none';\n",
              "\n",
              "        async function convertToInteractive(key) {\n",
              "          const element = document.querySelector('#df-07858f9b-b084-444e-b57b-814bde8b4326');\n",
              "          const dataTable =\n",
              "            await google.colab.kernel.invokeFunction('convertToInteractive',\n",
              "                                                     [key], {});\n",
              "          if (!dataTable) return;\n",
              "\n",
              "          const docLinkHtml = 'Like what you see? Visit the ' +\n",
              "            '<a target=\"_blank\" href=https://colab.research.google.com/notebooks/data_table.ipynb>data table notebook</a>'\n",
              "            + ' to learn more about interactive tables.';\n",
              "          element.innerHTML = '';\n",
              "          dataTable['output_type'] = 'display_data';\n",
              "          await google.colab.output.renderOutput(dataTable, element);\n",
              "          const docLink = document.createElement('div');\n",
              "          docLink.innerHTML = docLinkHtml;\n",
              "          element.appendChild(docLink);\n",
              "        }\n",
              "      </script>\n",
              "    </div>\n",
              "  </div>\n",
              "  "
            ]
          },
          "metadata": {},
          "execution_count": 52
        }
      ]
    },
    {
      "cell_type": "markdown",
      "source": [
        "### 4-3. 기저 벡터 및 문장 벡터 시각화"
      ],
      "metadata": {
        "id": "8tQakyZ2kq3w"
      }
    },
    {
      "cell_type": "markdown",
      "source": [
        "1. 기존 축을 기준으로 기저 벡터 위치 시각화"
      ],
      "metadata": {
        "id": "uJAaO2mZz7ul"
      }
    },
    {
      "cell_type": "code",
      "source": [
        "comp_1_label = 'comp_1'\n",
        "comp_2_label = 'comp_2'\n",
        "comp_3_label = 'comp_3'\n",
        "\n",
        "\n",
        "fig = plt.figure(figsize=(8,8))\n",
        "ax = fig.add_subplot(projection='3d')\n",
        "\n",
        "for word, word_vec in df_targets.iterrows():\n",
        "    comp_1 = word_vec[comp_1_label]\n",
        "    comp_2 = word_vec[comp_2_label]\n",
        "    comp_3 = word_vec[comp_3_label]\n",
        "    vec_len = np.linalg.norm(np.array([x,y,z]))\n",
        "    ax.quiver(0,0,0,comp_1,comp_2,comp_3,\n",
        "              arrow_length_ratio=0.1/vec_len)\n",
        "    ax.text(comp_1,comp_2,comp_3, \n",
        "            s=word,\n",
        "            size=12,\n",
        "            fontweight='bold',\n",
        "            )\n",
        "    ax.scatter(comp_1,comp_2,comp_3, c='white')\n",
        "\n",
        "docs_origin_pos = df_words[target_words]\n",
        "for i, doc_pos in docs_origin_pos.iterrows():\n",
        "    print(doc_pos.dot(df_targets))\n",
        "    # 선형 변환\n",
        "    x, y, z = doc_pos.dot(df_targets)\n",
        "    \n",
        "    ax.text((x+0.01),y,(z-0.1), \n",
        "            s=f'{i}\\n{doc_dict[i]}',\n",
        "            size=12,\n",
        "            fontweight='bold')\n",
        "    \n",
        "    ax.scatter(x,y,z)\n",
        "    \n",
        "\n",
        "ax.set_xlim(0,1)\n",
        "ax.set_ylim(1,0)\n",
        "ax.set_zlim(0,1)\n",
        "\n",
        "\n",
        "ax.set_xlabel(x_label, fontsize=12)\n",
        "ax.set_ylabel(y_label, fontsize=12)\n",
        "ax.set_zlabel(z_label, fontsize=12)\n",
        "\n",
        "\n",
        "plt.show()"
      ],
      "metadata": {
        "colab": {
          "base_uri": "https://localhost:8080/",
          "height": 680
        },
        "id": "R4E3z99LkpmO",
        "outputId": "8e8c9b03-3970-423d-aba0-6e3b0a410912"
      },
      "execution_count": 56,
      "outputs": [
        {
          "output_type": "stream",
          "name": "stdout",
          "text": [
            "comp_1   -0.71683\n",
            "comp_2    0.77868\n",
            "comp_3    0.10291\n",
            "Name: doc_1, dtype: float64\n",
            "comp_1   -0.18505\n",
            "comp_2    0.56973\n",
            "comp_3   -0.07690\n",
            "Name: doc_2, dtype: float64\n",
            "comp_1    0.34953\n",
            "comp_2    0.88654\n",
            "comp_3   -0.11097\n",
            "Name: doc_3, dtype: float64\n"
          ]
        },
        {
          "output_type": "display_data",
          "data": {
            "text/plain": [
              "<Figure size 576x576 with 1 Axes>"
            ],
            "image/png": "[encoded data removed]"
          },
          "metadata": {}
        }
      ]
    },
    {
      "cell_type": "markdown",
      "source": [
        "2. 변환된 기저 벡터로 문서 벡터 선형 변환"
      ],
      "metadata": {
        "id": "8JIPXNH-0JxH"
      }
    },
    {
      "cell_type": "code",
      "source": [
        "df_targets"
      ],
      "metadata": {
        "colab": {
          "base_uri": "https://localhost:8080/",
          "height": 143
        },
        "id": "bwPZ568X2RbF",
        "outputId": "d1a035a6-ca24-41c8-aca0-c84d0ca35190"
      },
      "execution_count": 57,
      "outputs": [
        {
          "output_type": "execute_result",
          "data": {
            "text/plain": [
              "         comp_1   comp_2   comp_3\n",
              "apple  -0.18505  0.56973 -0.07690\n",
              "fruit  -0.53178  0.20895  0.17981\n",
              "iphone  0.53458  0.31681 -0.03407"
            ],
            "text/html": [
              "\n",
              "  <div id=\"df-cc51438f-8e6a-48cf-8787-9b99d75c5760\">\n",
              "    <div class=\"colab-df-container\">\n",
              "      <div>\n",
              "<style scoped>\n",
              "    .dataframe tbody tr th:only-of-type {\n",
              "        vertical-align: middle;\n",
              "    }\n",
              "\n",
              "    .dataframe tbody tr th {\n",
              "        vertical-align: top;\n",
              "    }\n",
              "\n",
              "    .dataframe thead th {\n",
              "        text-align: right;\n",
              "    }\n",
              "</style>\n",
              "<table border=\"1\" class=\"dataframe\">\n",
              "  <thead>\n",
              "    <tr style=\"text-align: right;\">\n",
              "      <th></th>\n",
              "      <th>comp_1</th>\n",
              "      <th>comp_2</th>\n",
              "      <th>comp_3</th>\n",
              "    </tr>\n",
              "  </thead>\n",
              "  <tbody>\n",
              "    <tr>\n",
              "      <th>apple</th>\n",
              "      <td>-0.18505</td>\n",
              "      <td>0.56973</td>\n",
              "      <td>-0.07690</td>\n",
              "    </tr>\n",
              "    <tr>\n",
              "      <th>fruit</th>\n",
              "      <td>-0.53178</td>\n",
              "      <td>0.20895</td>\n",
              "      <td>0.17981</td>\n",
              "    </tr>\n",
              "    <tr>\n",
              "      <th>iphone</th>\n",
              "      <td>0.53458</td>\n",
              "      <td>0.31681</td>\n",
              "      <td>-0.03407</td>\n",
              "    </tr>\n",
              "  </tbody>\n",
              "</table>\n",
              "</div>\n",
              "      <button class=\"colab-df-convert\" onclick=\"convertToInteractive('df-cc51438f-8e6a-48cf-8787-9b99d75c5760')\"\n",
              "              title=\"Convert this dataframe to an interactive table.\"\n",
              "              style=\"display:none;\">\n",
              "        \n",
              "  <svg xmlns=\"http://www.w3.org/2000/svg\" height=\"24px\"viewBox=\"0 0 24 24\"\n",
              "       width=\"24px\">\n",
              "    <path d=\"M0 0h24v24H0V0z\" fill=\"none\"/>\n",
              "    <path d=\"M18.56 5.44l.94 2.06.94-2.06 2.06-.94-2.06-.94-.94-2.06-.94 2.06-2.06.94zm-11 1L8.5 8.5l.94-2.06 2.06-.94-2.06-.94L8.5 2.5l-.94 2.06-2.06.94zm10 10l.94 2.06.94-2.06 2.06-.94-2.06-.94-.94-2.06-.94 2.06-2.06.94z\"/><path d=\"M17.41 7.96l-1.37-1.37c-.4-.4-.92-.59-1.43-.59-.52 0-1.04.2-1.43.59L10.3 9.45l-7.72 7.72c-.78.78-.78 2.05 0 2.83L4 21.41c.39.39.9.59 1.41.59.51 0 1.02-.2 1.41-.59l7.78-7.78 2.81-2.81c.8-.78.8-2.07 0-2.86zM5.41 20L4 18.59l7.72-7.72 1.47 1.35L5.41 20z\"/>\n",
              "  </svg>\n",
              "      </button>\n",
              "      \n",
              "  <style>\n",
              "    .colab-df-container {\n",
              "      display:flex;\n",
              "      flex-wrap:wrap;\n",
              "      gap: 12px;\n",
              "    }\n",
              "\n",
              "    .colab-df-convert {\n",
              "      background-color: #E8F0FE;\n",
              "      border: none;\n",
              "      border-radius: 50%;\n",
              "      cursor: pointer;\n",
              "      display: none;\n",
              "      fill: #1967D2;\n",
              "      height: 32px;\n",
              "      padding: 0 0 0 0;\n",
              "      width: 32px;\n",
              "    }\n",
              "\n",
              "    .colab-df-convert:hover {\n",
              "      background-color: #E2EBFA;\n",
              "      box-shadow: 0px 1px 2px rgba(60, 64, 67, 0.3), 0px 1px 3px 1px rgba(60, 64, 67, 0.15);\n",
              "      fill: #174EA6;\n",
              "    }\n",
              "\n",
              "    [theme=dark] .colab-df-convert {\n",
              "      background-color: #3B4455;\n",
              "      fill: #D2E3FC;\n",
              "    }\n",
              "\n",
              "    [theme=dark] .colab-df-convert:hover {\n",
              "      background-color: #434B5C;\n",
              "      box-shadow: 0px 1px 3px 1px rgba(0, 0, 0, 0.15);\n",
              "      filter: drop-shadow(0px 1px 2px rgba(0, 0, 0, 0.3));\n",
              "      fill: #FFFFFF;\n",
              "    }\n",
              "  </style>\n",
              "\n",
              "      <script>\n",
              "        const buttonEl =\n",
              "          document.querySelector('#df-cc51438f-8e6a-48cf-8787-9b99d75c5760 button.colab-df-convert');\n",
              "        buttonEl.style.display =\n",
              "          google.colab.kernel.accessAllowed ? 'block' : 'none';\n",
              "\n",
              "        async function convertToInteractive(key) {\n",
              "          const element = document.querySelector('#df-cc51438f-8e6a-48cf-8787-9b99d75c5760');\n",
              "          const dataTable =\n",
              "            await google.colab.kernel.invokeFunction('convertToInteractive',\n",
              "                                                     [key], {});\n",
              "          if (!dataTable) return;\n",
              "\n",
              "          const docLinkHtml = 'Like what you see? Visit the ' +\n",
              "            '<a target=\"_blank\" href=https://colab.research.google.com/notebooks/data_table.ipynb>data table notebook</a>'\n",
              "            + ' to learn more about interactive tables.';\n",
              "          element.innerHTML = '';\n",
              "          dataTable['output_type'] = 'display_data';\n",
              "          await google.colab.output.renderOutput(dataTable, element);\n",
              "          const docLink = document.createElement('div');\n",
              "          docLink.innerHTML = docLinkHtml;\n",
              "          element.appendChild(docLink);\n",
              "        }\n",
              "      </script>\n",
              "    </div>\n",
              "  </div>\n",
              "  "
            ]
          },
          "metadata": {},
          "execution_count": 57
        }
      ]
    },
    {
      "cell_type": "markdown",
      "source": [
        "기저 벡터가 기존에 (1,0,0), (0,1,0), (0,0,1)이었다면 지금은 (-0.19, 0.57, -0.08), (-0.53, 0.21, 0.18), (0.53, 0.32, -0.03)로 선형 변환되었음을 확인할 수 있습니다.\n",
        "\n",
        "선형 변환된 기저 벡터에 따라 문서 벡터 역시 선형 변환시켜야 합니다. 선형 변환은 다음과 같이 행렬곱을 통해 수행할 수 있습니다."
      ],
      "metadata": {
        "id": "Y8kkUlX20NqP"
      }
    },
    {
      "cell_type": "code",
      "source": [
        "df_words[['apple', 'fruit', 'iphone']].dot(df_targets)"
      ],
      "metadata": {
        "colab": {
          "base_uri": "https://localhost:8080/",
          "height": 143
        },
        "id": "b97G2G8g3qkI",
        "outputId": "97b28d77-d0b4-454e-f4b8-7971bc74c691"
      },
      "execution_count": 58,
      "outputs": [
        {
          "output_type": "execute_result",
          "data": {
            "text/plain": [
              "        comp_1   comp_2   comp_3\n",
              "doc_1 -0.71683  0.77868  0.10291\n",
              "doc_2 -0.18505  0.56973 -0.07690\n",
              "doc_3  0.34953  0.88654 -0.11097"
            ],
            "text/html": [
              "\n",
              "  <div id=\"df-eb8b0235-753f-4a63-84c9-8862b4f9ddac\">\n",
              "    <div class=\"colab-df-container\">\n",
              "      <div>\n",
              "<style scoped>\n",
              "    .dataframe tbody tr th:only-of-type {\n",
              "        vertical-align: middle;\n",
              "    }\n",
              "\n",
              "    .dataframe tbody tr th {\n",
              "        vertical-align: top;\n",
              "    }\n",
              "\n",
              "    .dataframe thead th {\n",
              "        text-align: right;\n",
              "    }\n",
              "</style>\n",
              "<table border=\"1\" class=\"dataframe\">\n",
              "  <thead>\n",
              "    <tr style=\"text-align: right;\">\n",
              "      <th></th>\n",
              "      <th>comp_1</th>\n",
              "      <th>comp_2</th>\n",
              "      <th>comp_3</th>\n",
              "    </tr>\n",
              "  </thead>\n",
              "  <tbody>\n",
              "    <tr>\n",
              "      <th>doc_1</th>\n",
              "      <td>-0.71683</td>\n",
              "      <td>0.77868</td>\n",
              "      <td>0.10291</td>\n",
              "    </tr>\n",
              "    <tr>\n",
              "      <th>doc_2</th>\n",
              "      <td>-0.18505</td>\n",
              "      <td>0.56973</td>\n",
              "      <td>-0.07690</td>\n",
              "    </tr>\n",
              "    <tr>\n",
              "      <th>doc_3</th>\n",
              "      <td>0.34953</td>\n",
              "      <td>0.88654</td>\n",
              "      <td>-0.11097</td>\n",
              "    </tr>\n",
              "  </tbody>\n",
              "</table>\n",
              "</div>\n",
              "      <button class=\"colab-df-convert\" onclick=\"convertToInteractive('df-eb8b0235-753f-4a63-84c9-8862b4f9ddac')\"\n",
              "              title=\"Convert this dataframe to an interactive table.\"\n",
              "              style=\"display:none;\">\n",
              "        \n",
              "  <svg xmlns=\"http://www.w3.org/2000/svg\" height=\"24px\"viewBox=\"0 0 24 24\"\n",
              "       width=\"24px\">\n",
              "    <path d=\"M0 0h24v24H0V0z\" fill=\"none\"/>\n",
              "    <path d=\"M18.56 5.44l.94 2.06.94-2.06 2.06-.94-2.06-.94-.94-2.06-.94 2.06-2.06.94zm-11 1L8.5 8.5l.94-2.06 2.06-.94-2.06-.94L8.5 2.5l-.94 2.06-2.06.94zm10 10l.94 2.06.94-2.06 2.06-.94-2.06-.94-.94-2.06-.94 2.06-2.06.94z\"/><path d=\"M17.41 7.96l-1.37-1.37c-.4-.4-.92-.59-1.43-.59-.52 0-1.04.2-1.43.59L10.3 9.45l-7.72 7.72c-.78.78-.78 2.05 0 2.83L4 21.41c.39.39.9.59 1.41.59.51 0 1.02-.2 1.41-.59l7.78-7.78 2.81-2.81c.8-.78.8-2.07 0-2.86zM5.41 20L4 18.59l7.72-7.72 1.47 1.35L5.41 20z\"/>\n",
              "  </svg>\n",
              "      </button>\n",
              "      \n",
              "  <style>\n",
              "    .colab-df-container {\n",
              "      display:flex;\n",
              "      flex-wrap:wrap;\n",
              "      gap: 12px;\n",
              "    }\n",
              "\n",
              "    .colab-df-convert {\n",
              "      background-color: #E8F0FE;\n",
              "      border: none;\n",
              "      border-radius: 50%;\n",
              "      cursor: pointer;\n",
              "      display: none;\n",
              "      fill: #1967D2;\n",
              "      height: 32px;\n",
              "      padding: 0 0 0 0;\n",
              "      width: 32px;\n",
              "    }\n",
              "\n",
              "    .colab-df-convert:hover {\n",
              "      background-color: #E2EBFA;\n",
              "      box-shadow: 0px 1px 2px rgba(60, 64, 67, 0.3), 0px 1px 3px 1px rgba(60, 64, 67, 0.15);\n",
              "      fill: #174EA6;\n",
              "    }\n",
              "\n",
              "    [theme=dark] .colab-df-convert {\n",
              "      background-color: #3B4455;\n",
              "      fill: #D2E3FC;\n",
              "    }\n",
              "\n",
              "    [theme=dark] .colab-df-convert:hover {\n",
              "      background-color: #434B5C;\n",
              "      box-shadow: 0px 1px 3px 1px rgba(0, 0, 0, 0.15);\n",
              "      filter: drop-shadow(0px 1px 2px rgba(0, 0, 0, 0.3));\n",
              "      fill: #FFFFFF;\n",
              "    }\n",
              "  </style>\n",
              "\n",
              "      <script>\n",
              "        const buttonEl =\n",
              "          document.querySelector('#df-eb8b0235-753f-4a63-84c9-8862b4f9ddac button.colab-df-convert');\n",
              "        buttonEl.style.display =\n",
              "          google.colab.kernel.accessAllowed ? 'block' : 'none';\n",
              "\n",
              "        async function convertToInteractive(key) {\n",
              "          const element = document.querySelector('#df-eb8b0235-753f-4a63-84c9-8862b4f9ddac');\n",
              "          const dataTable =\n",
              "            await google.colab.kernel.invokeFunction('convertToInteractive',\n",
              "                                                     [key], {});\n",
              "          if (!dataTable) return;\n",
              "\n",
              "          const docLinkHtml = 'Like what you see? Visit the ' +\n",
              "            '<a target=\"_blank\" href=https://colab.research.google.com/notebooks/data_table.ipynb>data table notebook</a>'\n",
              "            + ' to learn more about interactive tables.';\n",
              "          element.innerHTML = '';\n",
              "          dataTable['output_type'] = 'display_data';\n",
              "          await google.colab.output.renderOutput(dataTable, element);\n",
              "          const docLink = document.createElement('div');\n",
              "          docLink.innerHTML = docLinkHtml;\n",
              "          element.appendChild(docLink);\n",
              "        }\n",
              "      </script>\n",
              "    </div>\n",
              "  </div>\n",
              "  "
            ]
          },
          "metadata": {},
          "execution_count": 58
        }
      ]
    },
    {
      "cell_type": "markdown",
      "source": [
        "3. 선형 변환된 기저 벡터, 문서 벡터 시각화"
      ],
      "metadata": {
        "id": "fL-1P3EM0RO3"
      }
    },
    {
      "cell_type": "code",
      "source": [
        "comp_1_label = 'comp_1'\n",
        "comp_2_label = 'comp_2'\n",
        "comp_3_label = 'comp_3'\n",
        "\n",
        "fig = plt.figure(figsize=(8,8))\n",
        "ax = fig.add_subplot(projection='3d')\n",
        "\n",
        "target_words = ['apple', 'fruit', 'iphone']\n",
        "df_targets = df_comps.loc[target_words]\n",
        "df_targets = df_targets.round(5)\n",
        "df_targets = df_targets.drop_duplicates()\n",
        "\n",
        "for word, word_vec in df_targets.iterrows():\n",
        "  comp_1 = word_vec[comp_1_label] * 3\n",
        "  comp_2 = word_vec[comp_2_label] * 3\n",
        "  comp_3 = word_vec[comp_3_label] * 3\n",
        "  vec_len = np.linalg.norm(np.array([x, y, z]))\n",
        "  ax.quiver(0,0,0,comp_1, comp_2, comp_3, arrow_length_ratio=0.03/vec_len)\n",
        "  ax.text((comp_1+0.1), comp_2, comp_3, s=word, size=12, fontweight='bold')\n",
        "  ax.scatter(comp_1, comp_2, comp_3, c='white')\n",
        "\n",
        "docs_origin_pos = df_words[target_words]\n",
        "for i, doc_pos in docs_origin_pos.iterrows():\n",
        "  # 선형 변환\n",
        "    x, y, z = doc_pos.dot(df_targets)\n",
        "    if i=='doc_1':\n",
        "            text_loc = ((x+0.1), y, (z))\n",
        "    if i=='doc_2':\n",
        "        text_loc = ((x+0.1), y, (z-0.1))\n",
        "    if i=='doc_3':\n",
        "        text_loc = ((x-0.1), y, (z-0.5))\n",
        "    ax.text(*text_loc, \n",
        "            s=f'{i}\\n{doc_dict[i]}',\n",
        "            size=12,\n",
        "            fontweight='bold')\n",
        "    \n",
        "    ax.scatter(x,y,z)\n",
        "    \n",
        "\n",
        "ax.set_xlim(0,3)\n",
        "ax.set_ylim(3,0)\n",
        "ax.set_zlim(0,3)\n",
        "\n",
        "\n",
        "ax.set_xlabel(x_label, fontsize=12)\n",
        "ax.set_ylabel(y_label, fontsize=12)\n",
        "ax.set_zlabel(z_label, fontsize=12)\n",
        "\n",
        "ax.axis('off')\n",
        "\n",
        "plt.show()"
      ],
      "metadata": {
        "colab": {
          "base_uri": "https://localhost:8080/",
          "height": 466
        },
        "id": "pyejrLWU30DF",
        "outputId": "2d818295-6f38-4aef-f335-93d520294979"
      },
      "execution_count": 59,
      "outputs": [
        {
          "output_type": "display_data",
          "data": {
            "text/plain": [
              "<Figure size 576x576 with 1 Axes>"
            ],
            "image/png": "[encoded data removed]"
          },
          "metadata": {}
        }
      ]
    },
    {
      "cell_type": "code",
      "source": [
        "docs_origin_pos"
      ],
      "metadata": {
        "colab": {
          "base_uri": "https://localhost:8080/",
          "height": 143
        },
        "id": "87CLsbyzP9bR",
        "outputId": "245c3721-1ffe-4f63-ed7f-5f03f087b100"
      },
      "execution_count": 60,
      "outputs": [
        {
          "output_type": "execute_result",
          "data": {
            "text/plain": [
              "       apple  fruit  iphone\n",
              "doc_1      1      1       0\n",
              "doc_2      1      0       0\n",
              "doc_3      1      0       1"
            ],
            "text/html": [
              "\n",
              "  <div id=\"df-8c0b90c1-1bcc-4702-8f4c-45a41dbf0a96\">\n",
              "    <div class=\"colab-df-container\">\n",
              "      <div>\n",
              "<style scoped>\n",
              "    .dataframe tbody tr th:only-of-type {\n",
              "        vertical-align: middle;\n",
              "    }\n",
              "\n",
              "    .dataframe tbody tr th {\n",
              "        vertical-align: top;\n",
              "    }\n",
              "\n",
              "    .dataframe thead th {\n",
              "        text-align: right;\n",
              "    }\n",
              "</style>\n",
              "<table border=\"1\" class=\"dataframe\">\n",
              "  <thead>\n",
              "    <tr style=\"text-align: right;\">\n",
              "      <th></th>\n",
              "      <th>apple</th>\n",
              "      <th>fruit</th>\n",
              "      <th>iphone</th>\n",
              "    </tr>\n",
              "  </thead>\n",
              "  <tbody>\n",
              "    <tr>\n",
              "      <th>doc_1</th>\n",
              "      <td>1</td>\n",
              "      <td>1</td>\n",
              "      <td>0</td>\n",
              "    </tr>\n",
              "    <tr>\n",
              "      <th>doc_2</th>\n",
              "      <td>1</td>\n",
              "      <td>0</td>\n",
              "      <td>0</td>\n",
              "    </tr>\n",
              "    <tr>\n",
              "      <th>doc_3</th>\n",
              "      <td>1</td>\n",
              "      <td>0</td>\n",
              "      <td>1</td>\n",
              "    </tr>\n",
              "  </tbody>\n",
              "</table>\n",
              "</div>\n",
              "      <button class=\"colab-df-convert\" onclick=\"convertToInteractive('df-8c0b90c1-1bcc-4702-8f4c-45a41dbf0a96')\"\n",
              "              title=\"Convert this dataframe to an interactive table.\"\n",
              "              style=\"display:none;\">\n",
              "        \n",
              "  <svg xmlns=\"http://www.w3.org/2000/svg\" height=\"24px\"viewBox=\"0 0 24 24\"\n",
              "       width=\"24px\">\n",
              "    <path d=\"M0 0h24v24H0V0z\" fill=\"none\"/>\n",
              "    <path d=\"M18.56 5.44l.94 2.06.94-2.06 2.06-.94-2.06-.94-.94-2.06-.94 2.06-2.06.94zm-11 1L8.5 8.5l.94-2.06 2.06-.94-2.06-.94L8.5 2.5l-.94 2.06-2.06.94zm10 10l.94 2.06.94-2.06 2.06-.94-2.06-.94-.94-2.06-.94 2.06-2.06.94z\"/><path d=\"M17.41 7.96l-1.37-1.37c-.4-.4-.92-.59-1.43-.59-.52 0-1.04.2-1.43.59L10.3 9.45l-7.72 7.72c-.78.78-.78 2.05 0 2.83L4 21.41c.39.39.9.59 1.41.59.51 0 1.02-.2 1.41-.59l7.78-7.78 2.81-2.81c.8-.78.8-2.07 0-2.86zM5.41 20L4 18.59l7.72-7.72 1.47 1.35L5.41 20z\"/>\n",
              "  </svg>\n",
              "      </button>\n",
              "      \n",
              "  <style>\n",
              "    .colab-df-container {\n",
              "      display:flex;\n",
              "      flex-wrap:wrap;\n",
              "      gap: 12px;\n",
              "    }\n",
              "\n",
              "    .colab-df-convert {\n",
              "      background-color: #E8F0FE;\n",
              "      border: none;\n",
              "      border-radius: 50%;\n",
              "      cursor: pointer;\n",
              "      display: none;\n",
              "      fill: #1967D2;\n",
              "      height: 32px;\n",
              "      padding: 0 0 0 0;\n",
              "      width: 32px;\n",
              "    }\n",
              "\n",
              "    .colab-df-convert:hover {\n",
              "      background-color: #E2EBFA;\n",
              "      box-shadow: 0px 1px 2px rgba(60, 64, 67, 0.3), 0px 1px 3px 1px rgba(60, 64, 67, 0.15);\n",
              "      fill: #174EA6;\n",
              "    }\n",
              "\n",
              "    [theme=dark] .colab-df-convert {\n",
              "      background-color: #3B4455;\n",
              "      fill: #D2E3FC;\n",
              "    }\n",
              "\n",
              "    [theme=dark] .colab-df-convert:hover {\n",
              "      background-color: #434B5C;\n",
              "      box-shadow: 0px 1px 3px 1px rgba(0, 0, 0, 0.15);\n",
              "      filter: drop-shadow(0px 1px 2px rgba(0, 0, 0, 0.3));\n",
              "      fill: #FFFFFF;\n",
              "    }\n",
              "  </style>\n",
              "\n",
              "      <script>\n",
              "        const buttonEl =\n",
              "          document.querySelector('#df-8c0b90c1-1bcc-4702-8f4c-45a41dbf0a96 button.colab-df-convert');\n",
              "        buttonEl.style.display =\n",
              "          google.colab.kernel.accessAllowed ? 'block' : 'none';\n",
              "\n",
              "        async function convertToInteractive(key) {\n",
              "          const element = document.querySelector('#df-8c0b90c1-1bcc-4702-8f4c-45a41dbf0a96');\n",
              "          const dataTable =\n",
              "            await google.colab.kernel.invokeFunction('convertToInteractive',\n",
              "                                                     [key], {});\n",
              "          if (!dataTable) return;\n",
              "\n",
              "          const docLinkHtml = 'Like what you see? Visit the ' +\n",
              "            '<a target=\"_blank\" href=https://colab.research.google.com/notebooks/data_table.ipynb>data table notebook</a>'\n",
              "            + ' to learn more about interactive tables.';\n",
              "          element.innerHTML = '';\n",
              "          dataTable['output_type'] = 'display_data';\n",
              "          await google.colab.output.renderOutput(dataTable, element);\n",
              "          const docLink = document.createElement('div');\n",
              "          docLink.innerHTML = docLinkHtml;\n",
              "          element.appendChild(docLink);\n",
              "        }\n",
              "      </script>\n",
              "    </div>\n",
              "  </div>\n",
              "  "
            ]
          },
          "metadata": {},
          "execution_count": 60
        }
      ]
    },
    {
      "cell_type": "markdown",
      "source": [
        "### 4-4.문장 벡터간 유사도 계산"
      ],
      "metadata": {
        "id": "iEOVFfIt5j9U"
      }
    },
    {
      "cell_type": "markdown",
      "source": [
        "마지막으로, 선형 변환시킨 문장 벡터의 코사인 거리가 어떻게 바뀌었는지 확인해보겠습니다."
      ],
      "metadata": {
        "id": "XhqCk4tH0djr"
      }
    },
    {
      "cell_type": "code",
      "source": [
        "df_doc_trans_pos = docs_origin_pos.dot(df_targets)"
      ],
      "metadata": {
        "id": "gBm74qXl5MJ6"
      },
      "execution_count": 63,
      "outputs": []
    },
    {
      "cell_type": "code",
      "source": [
        "df_doc_trans_pos"
      ],
      "metadata": {
        "colab": {
          "base_uri": "https://localhost:8080/",
          "height": 143
        },
        "id": "x8Pct_Lt5sSw",
        "outputId": "e9907fd0-0382-4f96-de6f-8d24ed767648"
      },
      "execution_count": 64,
      "outputs": [
        {
          "output_type": "execute_result",
          "data": {
            "text/plain": [
              "        comp_1   comp_2   comp_3\n",
              "doc_1 -0.71683  0.77868  0.10291\n",
              "doc_2 -0.18505  0.56973 -0.07690\n",
              "doc_3  0.34953  0.88654 -0.11097"
            ],
            "text/html": [
              "\n",
              "  <div id=\"df-1f1d2fa8-28ee-4edb-8f5b-3c09165e58a1\">\n",
              "    <div class=\"colab-df-container\">\n",
              "      <div>\n",
              "<style scoped>\n",
              "    .dataframe tbody tr th:only-of-type {\n",
              "        vertical-align: middle;\n",
              "    }\n",
              "\n",
              "    .dataframe tbody tr th {\n",
              "        vertical-align: top;\n",
              "    }\n",
              "\n",
              "    .dataframe thead th {\n",
              "        text-align: right;\n",
              "    }\n",
              "</style>\n",
              "<table border=\"1\" class=\"dataframe\">\n",
              "  <thead>\n",
              "    <tr style=\"text-align: right;\">\n",
              "      <th></th>\n",
              "      <th>comp_1</th>\n",
              "      <th>comp_2</th>\n",
              "      <th>comp_3</th>\n",
              "    </tr>\n",
              "  </thead>\n",
              "  <tbody>\n",
              "    <tr>\n",
              "      <th>doc_1</th>\n",
              "      <td>-0.71683</td>\n",
              "      <td>0.77868</td>\n",
              "      <td>0.10291</td>\n",
              "    </tr>\n",
              "    <tr>\n",
              "      <th>doc_2</th>\n",
              "      <td>-0.18505</td>\n",
              "      <td>0.56973</td>\n",
              "      <td>-0.07690</td>\n",
              "    </tr>\n",
              "    <tr>\n",
              "      <th>doc_3</th>\n",
              "      <td>0.34953</td>\n",
              "      <td>0.88654</td>\n",
              "      <td>-0.11097</td>\n",
              "    </tr>\n",
              "  </tbody>\n",
              "</table>\n",
              "</div>\n",
              "      <button class=\"colab-df-convert\" onclick=\"convertToInteractive('df-1f1d2fa8-28ee-4edb-8f5b-3c09165e58a1')\"\n",
              "              title=\"Convert this dataframe to an interactive table.\"\n",
              "              style=\"display:none;\">\n",
              "        \n",
              "  <svg xmlns=\"http://www.w3.org/2000/svg\" height=\"24px\"viewBox=\"0 0 24 24\"\n",
              "       width=\"24px\">\n",
              "    <path d=\"M0 0h24v24H0V0z\" fill=\"none\"/>\n",
              "    <path d=\"M18.56 5.44l.94 2.06.94-2.06 2.06-.94-2.06-.94-.94-2.06-.94 2.06-2.06.94zm-11 1L8.5 8.5l.94-2.06 2.06-.94-2.06-.94L8.5 2.5l-.94 2.06-2.06.94zm10 10l.94 2.06.94-2.06 2.06-.94-2.06-.94-.94-2.06-.94 2.06-2.06.94z\"/><path d=\"M17.41 7.96l-1.37-1.37c-.4-.4-.92-.59-1.43-.59-.52 0-1.04.2-1.43.59L10.3 9.45l-7.72 7.72c-.78.78-.78 2.05 0 2.83L4 21.41c.39.39.9.59 1.41.59.51 0 1.02-.2 1.41-.59l7.78-7.78 2.81-2.81c.8-.78.8-2.07 0-2.86zM5.41 20L4 18.59l7.72-7.72 1.47 1.35L5.41 20z\"/>\n",
              "  </svg>\n",
              "      </button>\n",
              "      \n",
              "  <style>\n",
              "    .colab-df-container {\n",
              "      display:flex;\n",
              "      flex-wrap:wrap;\n",
              "      gap: 12px;\n",
              "    }\n",
              "\n",
              "    .colab-df-convert {\n",
              "      background-color: #E8F0FE;\n",
              "      border: none;\n",
              "      border-radius: 50%;\n",
              "      cursor: pointer;\n",
              "      display: none;\n",
              "      fill: #1967D2;\n",
              "      height: 32px;\n",
              "      padding: 0 0 0 0;\n",
              "      width: 32px;\n",
              "    }\n",
              "\n",
              "    .colab-df-convert:hover {\n",
              "      background-color: #E2EBFA;\n",
              "      box-shadow: 0px 1px 2px rgba(60, 64, 67, 0.3), 0px 1px 3px 1px rgba(60, 64, 67, 0.15);\n",
              "      fill: #174EA6;\n",
              "    }\n",
              "\n",
              "    [theme=dark] .colab-df-convert {\n",
              "      background-color: #3B4455;\n",
              "      fill: #D2E3FC;\n",
              "    }\n",
              "\n",
              "    [theme=dark] .colab-df-convert:hover {\n",
              "      background-color: #434B5C;\n",
              "      box-shadow: 0px 1px 3px 1px rgba(0, 0, 0, 0.15);\n",
              "      filter: drop-shadow(0px 1px 2px rgba(0, 0, 0, 0.3));\n",
              "      fill: #FFFFFF;\n",
              "    }\n",
              "  </style>\n",
              "\n",
              "      <script>\n",
              "        const buttonEl =\n",
              "          document.querySelector('#df-1f1d2fa8-28ee-4edb-8f5b-3c09165e58a1 button.colab-df-convert');\n",
              "        buttonEl.style.display =\n",
              "          google.colab.kernel.accessAllowed ? 'block' : 'none';\n",
              "\n",
              "        async function convertToInteractive(key) {\n",
              "          const element = document.querySelector('#df-1f1d2fa8-28ee-4edb-8f5b-3c09165e58a1');\n",
              "          const dataTable =\n",
              "            await google.colab.kernel.invokeFunction('convertToInteractive',\n",
              "                                                     [key], {});\n",
              "          if (!dataTable) return;\n",
              "\n",
              "          const docLinkHtml = 'Like what you see? Visit the ' +\n",
              "            '<a target=\"_blank\" href=https://colab.research.google.com/notebooks/data_table.ipynb>data table notebook</a>'\n",
              "            + ' to learn more about interactive tables.';\n",
              "          element.innerHTML = '';\n",
              "          dataTable['output_type'] = 'display_data';\n",
              "          await google.colab.output.renderOutput(dataTable, element);\n",
              "          const docLink = document.createElement('div');\n",
              "          docLink.innerHTML = docLinkHtml;\n",
              "          element.appendChild(docLink);\n",
              "        }\n",
              "      </script>\n",
              "    </div>\n",
              "  </div>\n",
              "  "
            ]
          },
          "metadata": {},
          "execution_count": 64
        }
      ]
    },
    {
      "cell_type": "code",
      "source": [
        "dst_trans_1_2 = np.linalg.norm(df_doc_trans_pos.loc['doc_1'] - df_doc_trans_pos.loc['doc_2'])\n",
        "dst_trans_2_3 = np.linalg.norm(df_doc_trans_pos.loc['doc_2'] - df_doc_trans_pos.loc['doc_3'])\n",
        "\n",
        "\n",
        "cos_dst_trans_1_2 = get_cos_dst(df_doc_trans_pos.loc['doc_1'],\n",
        "                               df_doc_trans_pos.loc['doc_2'])\n",
        "cos_dst_trans_2_3 = get_cos_dst(df_doc_trans_pos.loc['doc_2'],\n",
        "                               df_doc_trans_pos.loc['doc_3'])\n",
        "\n",
        "\n",
        "print('='*20)\n",
        "print(f\"doc_1 : {doc_dict['doc_1']}\")\n",
        "print(f\"doc_2 : {doc_dict['doc_2']}\")\n",
        "print(f\"euclidean distance: {round(dst_trans_1_2,2)}\")\n",
        "print(f\"cosine distance: {round(cos_dst_trans_1_2,2)}\")\n",
        "\n",
        "print('='*20)\n",
        "print(f\"doc_2 : {doc_dict['doc_2']}\")\n",
        "print(f\"doc_3 : {doc_dict['doc_3']}\")\n",
        "print(f\"euclidean distance: {round(dst_trans_2_3,2)}\")\n",
        "print(f\"cosine distance: {round(cos_dst_trans_2_3,2)}\")"
      ],
      "metadata": {
        "colab": {
          "base_uri": "https://localhost:8080/"
        },
        "id": "P6H5rDYP5sth",
        "outputId": "2597a7a7-697a-46d1-8d8b-95710b3c20e8"
      },
      "execution_count": 65,
      "outputs": [
        {
          "output_type": "stream",
          "name": "stdout",
          "text": [
            "====================\n",
            "doc_1 : My favorite fruit is red and round apple.\n",
            "doc_2 : I like to eat apple pie for dessert. It smells good.\n",
            "euclidean distance: 0.6\n",
            "cosine distance: 0.11\n",
            "====================\n",
            "doc_2 : I like to eat apple pie for dessert. It smells good.\n",
            "doc_3 : I love listening to music on my apple iPhone.\n",
            "euclidean distance: 0.62\n",
            "cosine distance: 0.23\n"
          ]
        }
      ]
    },
    {
      "cell_type": "markdown",
      "source": [
        "최종 결과를 확인해보면, doc_1과 doc_2의 유클리디안 거리는 0.6, 코사인 거리는 0.12 이고, doc_2과 doc_3의 유클리디안 거리는 0.62, 코사인 거리는 0.23 임을 확인할 수 있습니다."
      ],
      "metadata": {
        "id": "-oUetZgT0gLH"
      }
    },
    {
      "cell_type": "markdown",
      "source": [
        "> 이를 통해 doc_1과 doc_2의 유사도가 doc_2와 doc_3의 유사도보다 큼을 알 수 있었습니다."
      ],
      "metadata": {
        "id": "SVHpQUKS0h-O"
      }
    }
  ]
}